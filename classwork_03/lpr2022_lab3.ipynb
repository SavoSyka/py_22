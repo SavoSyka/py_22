{
  "cells": [
    {
      "cell_type": "markdown",
      "id": "cc9180ab",
      "metadata": {
        "id": "cc9180ab"
      },
      "source": [
        "# Set."
      ]
    },
    {
      "cell_type": "markdown",
      "id": "2905a413",
      "metadata": {
        "id": "2905a413"
      },
      "source": [
        "Множество `set` в Python имеет тот же смысл, что понятие множества в математике. `Множество` содержит неупорядоченный набор элементов. Множества поддерживают стандартные математические операции над ними: *объединение, пересечение, разность*. Возможно также добавление и удаление элементов, проверка их принадлежности множеству с помощью оператора `in`. При этом все элементы входят в `set` только один раз, добавление существующего элемента не изменяет множество. Элементами множества могут быть только `неизменяемые` типы, например, его элементами не могут быть списки.\n",
        "\n",
        "### Таблица по взаимодействию элемента и множества\n",
        "Операция  | Значение \n",
        "---|---\n",
        "`x in A`  | $x \\in A$, принадлежит ли элемент x множеству A \n",
        "`x not in A`  | $x \\notin A$ — то же, что `not (x in A)`\n",
        "`A.add(x)`  | добавить элемент x в множество A \n",
        "`A.discard(x)`  | удалить элемент x из множества A \n",
        "`A.remove(x)`  | удалить элемент x из множества A \n",
        "`A.pop()`  | удаляет из множества один случайный элемент и возвращает его "
      ]
    },
    {
      "cell_type": "code",
      "execution_count": null,
      "id": "b764f6e7",
      "metadata": {
        "colab": {
          "base_uri": "https://localhost:8080/"
        },
        "id": "b764f6e7",
        "outputId": "f2331ac5-8d26-48f2-e5af-1ed93e209eed"
      },
      "outputs": [
        {
          "output_type": "stream",
          "name": "stdout",
          "text": [
            "{1, 2, 3, 4}\n"
          ]
        }
      ],
      "source": [
        "a = {1, 2, 3}\n",
        "a.add(4)\n",
        "print(a)"
      ]
    },
    {
      "cell_type": "code",
      "execution_count": null,
      "id": "10b6998a",
      "metadata": {
        "colab": {
          "base_uri": "https://localhost:8080/"
        },
        "id": "10b6998a",
        "outputId": "feb95118-3138-4cdb-d73a-7cd99c5c48e0"
      },
      "outputs": [
        {
          "output_type": "stream",
          "name": "stdout",
          "text": [
            "{1, 2, 3, 4}\n"
          ]
        }
      ],
      "source": [
        "a.add(1)\n",
        "print(a)"
      ]
    },
    {
      "cell_type": "code",
      "execution_count": null,
      "id": "8feef037",
      "metadata": {
        "colab": {
          "base_uri": "https://localhost:8080/"
        },
        "id": "8feef037",
        "outputId": "482d4fa1-37b8-4d3f-8bba-67871417b95f"
      },
      "outputs": [
        {
          "output_type": "stream",
          "name": "stdout",
          "text": [
            "False True\n"
          ]
        }
      ],
      "source": [
        "print(0 in a, 1 in a)"
      ]
    },
    {
      "cell_type": "markdown",
      "id": "96713d33",
      "metadata": {
        "id": "96713d33"
      },
      "source": [
        "Для удаления элементов из множества можно использовать `discard` и `remove`, их поведение различается тогда, когда удаляемый элемент отсутствует в множестве: `discard` не делает ничего, а метод `remove` генерирует исключение `KeyError`, которое вы увидите в одной из ячеек ниже."
      ]
    },
    {
      "cell_type": "code",
      "execution_count": null,
      "id": "a59d5948",
      "metadata": {
        "colab": {
          "base_uri": "https://localhost:8080/"
        },
        "id": "a59d5948",
        "outputId": "2c905847-4afc-4d0f-f089-eca8f25da830"
      },
      "outputs": [
        {
          "output_type": "stream",
          "name": "stdout",
          "text": [
            "{2, 3, 4}\n"
          ]
        }
      ],
      "source": [
        "a.remove(1)\n",
        "print(a)"
      ]
    },
    {
      "cell_type": "code",
      "execution_count": null,
      "id": "b33b0ea5",
      "metadata": {
        "colab": {
          "base_uri": "https://localhost:8080/",
          "height": 183
        },
        "id": "b33b0ea5",
        "outputId": "8ea4991f-0297-4bf8-cec1-17365576ff01"
      },
      "outputs": [
        {
          "output_type": "error",
          "ename": "KeyError",
          "evalue": "ignored",
          "traceback": [
            "\u001b[0;31m---------------------------------------------------------------------------\u001b[0m",
            "\u001b[0;31mKeyError\u001b[0m                                  Traceback (most recent call last)",
            "\u001b[0;32m<ipython-input-5-e7d02a77f7c4>\u001b[0m in \u001b[0;36m<module>\u001b[0;34m\u001b[0m\n\u001b[0;32m----> 1\u001b[0;31m \u001b[0ma\u001b[0m\u001b[0;34m.\u001b[0m\u001b[0mremove\u001b[0m\u001b[0;34m(\u001b[0m\u001b[0;36m0\u001b[0m\u001b[0;34m)\u001b[0m\u001b[0;34m\u001b[0m\u001b[0;34m\u001b[0m\u001b[0m\n\u001b[0m\u001b[1;32m      2\u001b[0m \u001b[0mprint\u001b[0m\u001b[0;34m(\u001b[0m\u001b[0ma\u001b[0m\u001b[0;34m)\u001b[0m\u001b[0;34m\u001b[0m\u001b[0;34m\u001b[0m\u001b[0m\n",
            "\u001b[0;31mKeyError\u001b[0m: 0"
          ]
        }
      ],
      "source": [
        "a.remove(0)\n",
        "print(a)"
      ]
    },
    {
      "cell_type": "code",
      "execution_count": null,
      "id": "c1a18deb",
      "metadata": {
        "colab": {
          "base_uri": "https://localhost:8080/"
        },
        "id": "c1a18deb",
        "outputId": "8c606aea-1a80-4bfc-87e7-946fda444262"
      },
      "outputs": [
        {
          "output_type": "stream",
          "name": "stdout",
          "text": [
            "{2, 3, 4}\n"
          ]
        }
      ],
      "source": [
        "print(a)"
      ]
    },
    {
      "cell_type": "code",
      "execution_count": 8,
      "id": "bae1b5de",
      "metadata": {
        "colab": {
          "base_uri": "https://localhost:8080/"
        },
        "id": "bae1b5de",
        "outputId": "fd9549c2-3a6e-4e19-f716-0ec55d7dd52c"
      },
      "outputs": [
        {
          "output_type": "stream",
          "name": "stdout",
          "text": [
            "{3, 4}\n"
          ]
        }
      ],
      "source": [
        "a.discard(2)\n",
        "print(a)"
      ]
    },
    {
      "cell_type": "code",
      "execution_count": 9,
      "id": "27de8b15",
      "metadata": {
        "id": "27de8b15",
        "colab": {
          "base_uri": "https://localhost:8080/"
        },
        "outputId": "dac100c4-594a-47a3-98cc-e41858bb4c9a"
      },
      "outputs": [
        {
          "output_type": "stream",
          "name": "stdout",
          "text": [
            "{3, 4}\n"
          ]
        }
      ],
      "source": [
        "a.discard(0)\n",
        "print(a)"
      ]
    },
    {
      "cell_type": "markdown",
      "id": "5f4bca28",
      "metadata": {
        "id": "5f4bca28"
      },
      "source": [
        "Для создания пустого множества или для получения множества из *итерируемого* объекта можно использовать конструктор множеств `set`:"
      ]
    },
    {
      "cell_type": "code",
      "execution_count": 10,
      "id": "68ccf6f0",
      "metadata": {
        "id": "68ccf6f0",
        "colab": {
          "base_uri": "https://localhost:8080/"
        },
        "outputId": "e3a720f7-fdbd-437c-b75a-f7d8fcb84757"
      },
      "outputs": [
        {
          "output_type": "stream",
          "name": "stdout",
          "text": [
            "set()\n",
            "{1}\n"
          ]
        }
      ],
      "source": [
        "a = set()\n",
        "print(a)\n",
        "a.add(1)\n",
        "print(a)"
      ]
    },
    {
      "cell_type": "markdown",
      "id": "01353f80",
      "metadata": {
        "id": "01353f80"
      },
      "source": [
        "Конструкция ниже не работает, потому что фигурные скобки используются для создания пустых словарей `dict`, о которых будет сказано ниже."
      ]
    },
    {
      "cell_type": "code",
      "execution_count": 11,
      "id": "73ca6b59",
      "metadata": {
        "id": "73ca6b59",
        "colab": {
          "base_uri": "https://localhost:8080/",
          "height": 235
        },
        "outputId": "b4360546-bb6b-45fe-b85d-a7bd4a555a77"
      },
      "outputs": [
        {
          "output_type": "stream",
          "name": "stdout",
          "text": [
            "{}\n"
          ]
        },
        {
          "output_type": "error",
          "ename": "AttributeError",
          "evalue": "ignored",
          "traceback": [
            "\u001b[0;31m---------------------------------------------------------------------------\u001b[0m",
            "\u001b[0;31mAttributeError\u001b[0m                            Traceback (most recent call last)",
            "\u001b[0;32m<ipython-input-11-c229c9b03979>\u001b[0m in \u001b[0;36m<module>\u001b[0;34m\u001b[0m\n\u001b[1;32m      1\u001b[0m \u001b[0ma\u001b[0m \u001b[0;34m=\u001b[0m \u001b[0;34m{\u001b[0m\u001b[0;34m}\u001b[0m\u001b[0;34m\u001b[0m\u001b[0;34m\u001b[0m\u001b[0m\n\u001b[1;32m      2\u001b[0m \u001b[0mprint\u001b[0m\u001b[0;34m(\u001b[0m\u001b[0ma\u001b[0m\u001b[0;34m)\u001b[0m\u001b[0;34m\u001b[0m\u001b[0;34m\u001b[0m\u001b[0m\n\u001b[0;32m----> 3\u001b[0;31m \u001b[0ma\u001b[0m\u001b[0;34m.\u001b[0m\u001b[0madd\u001b[0m\u001b[0;34m(\u001b[0m\u001b[0;36m1\u001b[0m\u001b[0;34m)\u001b[0m\u001b[0;34m\u001b[0m\u001b[0;34m\u001b[0m\u001b[0m\n\u001b[0m\u001b[1;32m      4\u001b[0m \u001b[0mprint\u001b[0m\u001b[0;34m(\u001b[0m\u001b[0ma\u001b[0m\u001b[0;34m)\u001b[0m\u001b[0;34m\u001b[0m\u001b[0;34m\u001b[0m\u001b[0m\n",
            "\u001b[0;31mAttributeError\u001b[0m: 'dict' object has no attribute 'add'"
          ]
        }
      ],
      "source": [
        "a = {}\n",
        "print(a)\n",
        "a.add(1)\n",
        "print(a)"
      ]
    },
    {
      "cell_type": "code",
      "execution_count": 12,
      "id": "a2c72d10",
      "metadata": {
        "id": "a2c72d10",
        "colab": {
          "base_uri": "https://localhost:8080/"
        },
        "outputId": "bfe390c5-cd60-4f84-fbf6-82987de19bcd"
      },
      "outputs": [
        {
          "output_type": "stream",
          "name": "stdout",
          "text": [
            "{1, 2, 3, 4}\n"
          ]
        }
      ],
      "source": [
        "a = [1, 2, 3, 4]\n",
        "print(set(a))"
      ]
    },
    {
      "cell_type": "code",
      "execution_count": 13,
      "id": "6aec8e48",
      "metadata": {
        "id": "6aec8e48",
        "colab": {
          "base_uri": "https://localhost:8080/"
        },
        "outputId": "b31646fd-e278-4cdd-f82c-e00d3f57b080"
      },
      "outputs": [
        {
          "output_type": "stream",
          "name": "stdout",
          "text": [
            "{1, 2, 3, 4}\n"
          ]
        }
      ],
      "source": [
        "a = [1, 2, 3, 4, 1]\n",
        "print(set(a))"
      ]
    },
    {
      "cell_type": "code",
      "execution_count": 14,
      "id": "5f28094e",
      "metadata": {
        "id": "5f28094e",
        "colab": {
          "base_uri": "https://localhost:8080/"
        },
        "outputId": "a9397797-977e-4c1a-8da0-21076547fc43"
      },
      "outputs": [
        {
          "output_type": "stream",
          "name": "stdout",
          "text": [
            "{'c', 'd', 'a', 'b'}\n"
          ]
        }
      ],
      "source": [
        "a = \"abcd\"\n",
        "print(set(a))"
      ]
    },
    {
      "cell_type": "code",
      "execution_count": 15,
      "id": "1f6a55db",
      "metadata": {
        "id": "1f6a55db",
        "colab": {
          "base_uri": "https://localhost:8080/"
        },
        "outputId": "8283a608-4cca-43f4-d58f-bf6375a75776"
      },
      "outputs": [
        {
          "output_type": "stream",
          "name": "stdout",
          "text": [
            "{'c', 'd', 'a', 'b'}\n"
          ]
        }
      ],
      "source": [
        "a = \"abcda\"\n",
        "print(set(a))"
      ]
    },
    {
      "cell_type": "markdown",
      "id": "b22ea5f0",
      "metadata": {
        "id": "b22ea5f0"
      },
      "source": [
        "Операции над множествами можно записывать как коротко символами, так и названиями соответствующих функций:"
      ]
    },
    {
      "cell_type": "code",
      "execution_count": 16,
      "id": "09c3ec60",
      "metadata": {
        "id": "09c3ec60",
        "colab": {
          "base_uri": "https://localhost:8080/"
        },
        "outputId": "5465564a-478d-45e9-b493-992628f60cc5"
      },
      "outputs": [
        {
          "output_type": "stream",
          "name": "stdout",
          "text": [
            "{1, 2, 3, 4, 5, 6}\n",
            "{1, 2, 3, 4, 5, 6}\n"
          ]
        }
      ],
      "source": [
        "a = {1, 2, 3, 4}\n",
        "b = {3, 4, 5, 6}\n",
        "print(a.union(b))\n",
        "print(a | b)"
      ]
    },
    {
      "cell_type": "code",
      "execution_count": 17,
      "id": "6f286d8d",
      "metadata": {
        "id": "6f286d8d",
        "colab": {
          "base_uri": "https://localhost:8080/"
        },
        "outputId": "96875251-f075-4465-8094-f117c0470f2f"
      },
      "outputs": [
        {
          "output_type": "stream",
          "name": "stdout",
          "text": [
            "{3, 4}\n",
            "{3, 4}\n"
          ]
        }
      ],
      "source": [
        "a = {1, 2, 3, 4}\n",
        "b = {3, 4, 5, 6}\n",
        "print(a.intersection(b))\n",
        "print(a & b)"
      ]
    },
    {
      "cell_type": "code",
      "execution_count": 97,
      "id": "14b1a2b6",
      "metadata": {
        "id": "14b1a2b6",
        "colab": {
          "base_uri": "https://localhost:8080/"
        },
        "outputId": "992de438-d796-4fd6-aba1-9d0b08258e5f"
      },
      "outputs": [
        {
          "output_type": "stream",
          "name": "stdout",
          "text": [
            "{1, 2}\n",
            "[1, 2]\n"
          ]
        }
      ],
      "source": [
        "a = {1, 2, 3, 4}\n",
        "b = {3, 4, 5, 6}\n",
        "print(a.difference(b))\n",
        "print(list(a - b))"
      ]
    },
    {
      "cell_type": "markdown",
      "id": "99ecf48b",
      "metadata": {
        "id": "99ecf48b"
      },
      "source": [
        "Симметрическая разность двух множеств - множество, состоящее из элементов, входящих в одно и только одно из данных множеств:"
      ]
    },
    {
      "cell_type": "code",
      "execution_count": 96,
      "id": "f58dd2af",
      "metadata": {
        "id": "f58dd2af",
        "colab": {
          "base_uri": "https://localhost:8080/",
          "height": 235
        },
        "outputId": "78b4f763-edbf-47ae-c08a-9f6b5db7eba1"
      },
      "outputs": [
        {
          "output_type": "stream",
          "name": "stdout",
          "text": [
            "{1, 2, 5, 6}\n",
            "{1, 2, 5, 6}\n"
          ]
        },
        {
          "output_type": "error",
          "ename": "TypeError",
          "evalue": "ignored",
          "traceback": [
            "\u001b[0;31m---------------------------------------------------------------------------\u001b[0m",
            "\u001b[0;31mTypeError\u001b[0m                                 Traceback (most recent call last)",
            "\u001b[0;32m<ipython-input-96-939c766c106d>\u001b[0m in \u001b[0;36m<module>\u001b[0;34m\u001b[0m\n\u001b[1;32m      3\u001b[0m \u001b[0mprint\u001b[0m\u001b[0;34m(\u001b[0m\u001b[0ma\u001b[0m\u001b[0;34m.\u001b[0m\u001b[0msymmetric_difference\u001b[0m\u001b[0;34m(\u001b[0m\u001b[0mb\u001b[0m\u001b[0;34m)\u001b[0m\u001b[0;34m)\u001b[0m\u001b[0;34m\u001b[0m\u001b[0;34m\u001b[0m\u001b[0m\n\u001b[1;32m      4\u001b[0m \u001b[0mprint\u001b[0m\u001b[0;34m(\u001b[0m\u001b[0ma\u001b[0m \u001b[0;34m^\u001b[0m \u001b[0mb\u001b[0m\u001b[0;34m)\u001b[0m\u001b[0;34m\u001b[0m\u001b[0;34m\u001b[0m\u001b[0m\n\u001b[0;32m----> 5\u001b[0;31m \u001b[0mprint\u001b[0m\u001b[0;34m(\u001b[0m\u001b[0ma\u001b[0m\u001b[0;34m[\u001b[0m\u001b[0;36m1\u001b[0m\u001b[0;34m]\u001b[0m\u001b[0;34m)\u001b[0m\u001b[0;34m\u001b[0m\u001b[0;34m\u001b[0m\u001b[0m\n\u001b[0m",
            "\u001b[0;31mTypeError\u001b[0m: 'set' object is not subscriptable"
          ]
        }
      ],
      "source": [
        "a = {1, 2, 3, 4}\n",
        "b = {3, 4, 5, 6}\n",
        "print(a.symmetric_difference(b))\n",
        "print(a ^ b)\n",
        "print(a[1])"
      ]
    },
    {
      "cell_type": "code",
      "execution_count": 20,
      "id": "2fd6de37",
      "metadata": {
        "id": "2fd6de37",
        "colab": {
          "base_uri": "https://localhost:8080/"
        },
        "outputId": "e6f765bd-d7af-46a0-cbf1-d026b52cf78e"
      },
      "outputs": [
        {
          "output_type": "stream",
          "name": "stdout",
          "text": [
            "False\n",
            "False\n",
            "True\n",
            "True\n"
          ]
        }
      ],
      "source": [
        "a = {1, 2, 3, 4}\n",
        "b = {3, 4, 5, 6}\n",
        "print(a <= b)\n",
        "print(a.issubset(b))\n",
        "\n",
        "c = {3, 4}\n",
        "d = {3, 4, 5, 6}\n",
        "print(c <= d)\n",
        "print(c.issubset(d))"
      ]
    },
    {
      "cell_type": "code",
      "execution_count": 21,
      "id": "794fe0bb",
      "metadata": {
        "id": "794fe0bb",
        "colab": {
          "base_uri": "https://localhost:8080/"
        },
        "outputId": "a97207d1-2bcd-4977-8de3-5f121ecb5212"
      },
      "outputs": [
        {
          "output_type": "stream",
          "name": "stdout",
          "text": [
            "True\n",
            "False\n"
          ]
        }
      ],
      "source": [
        "a = {3, 4, 5, 6}\n",
        "b = {3, 4, 5, 6}\n",
        "print(a <= b)\n",
        "print(a < b)"
      ]
    },
    {
      "cell_type": "markdown",
      "id": "e978e84a",
      "metadata": {
        "id": "e978e84a"
      },
      "source": [
        "Существуют также операции наподобие `+=`, `-=`, `*=`, `/=`, `//=`:"
      ]
    },
    {
      "cell_type": "code",
      "execution_count": 22,
      "id": "c3e59589",
      "metadata": {
        "id": "c3e59589",
        "colab": {
          "base_uri": "https://localhost:8080/"
        },
        "outputId": "204783ad-f639-4d4a-db8c-c5eb825bdfed"
      },
      "outputs": [
        {
          "output_type": "stream",
          "name": "stdout",
          "text": [
            "{3, 4}\n"
          ]
        }
      ],
      "source": [
        "a = {1, 2, 3, 4}\n",
        "b = {3, 4, 5, 6}\n",
        "a &= b\n",
        "print(a)"
      ]
    },
    {
      "cell_type": "code",
      "execution_count": 24,
      "id": "82ff0931",
      "metadata": {
        "id": "82ff0931",
        "colab": {
          "base_uri": "https://localhost:8080/"
        },
        "outputId": "3af74032-652b-425a-f0ca-e8681035f35e"
      },
      "outputs": [
        {
          "output_type": "stream",
          "name": "stdout",
          "text": [
            "{3, 4}\n"
          ]
        }
      ],
      "source": [
        "a = {1, 2, 3, 4}\n",
        "b = {3, 4, 5, 6}\n",
        "a.intersection_update(b)\n",
        "print(a)"
      ]
    },
    {
      "cell_type": "code",
      "execution_count": 25,
      "id": "9e19f911",
      "metadata": {
        "id": "9e19f911",
        "colab": {
          "base_uri": "https://localhost:8080/"
        },
        "outputId": "dcc3d9e2-7a3d-4f2e-990b-aa36a4430999"
      },
      "outputs": [
        {
          "output_type": "stream",
          "name": "stdout",
          "text": [
            "{1, 2, 3, 4, 5, 6}\n"
          ]
        }
      ],
      "source": [
        "a = {1, 2, 3, 4}\n",
        "b = {3, 4, 5, 6}\n",
        "a |= b\n",
        "print(a)"
      ]
    },
    {
      "cell_type": "code",
      "execution_count": 26,
      "id": "3e07d561",
      "metadata": {
        "id": "3e07d561",
        "colab": {
          "base_uri": "https://localhost:8080/"
        },
        "outputId": "9d503c98-7d47-4b4a-c99e-da1dc3d9afe9"
      },
      "outputs": [
        {
          "output_type": "stream",
          "name": "stdout",
          "text": [
            "{1, 2, 3, 4, 5, 6}\n"
          ]
        }
      ],
      "source": [
        "a = {1, 2, 3, 4}\n",
        "b = {3, 4, 5, 6}\n",
        "a.update(b)\n",
        "print(a)"
      ]
    },
    {
      "cell_type": "code",
      "execution_count": 27,
      "id": "beabdba5",
      "metadata": {
        "id": "beabdba5",
        "colab": {
          "base_uri": "https://localhost:8080/"
        },
        "outputId": "d54151fb-46d9-4156-b917-546d3ad3f272"
      },
      "outputs": [
        {
          "output_type": "stream",
          "name": "stdout",
          "text": [
            "{1, 2}\n"
          ]
        }
      ],
      "source": [
        "a = {1, 2, 3, 4}\n",
        "b = {3, 4, 5, 6}\n",
        "a -= b\n",
        "print(a)"
      ]
    },
    {
      "cell_type": "code",
      "execution_count": 28,
      "id": "0ccfb2a9",
      "metadata": {
        "id": "0ccfb2a9",
        "colab": {
          "base_uri": "https://localhost:8080/"
        },
        "outputId": "2c859e83-e364-49bd-aee3-d835dc4d3609"
      },
      "outputs": [
        {
          "output_type": "stream",
          "name": "stdout",
          "text": [
            "{1, 2}\n"
          ]
        }
      ],
      "source": [
        "a = {1, 2, 3, 4}\n",
        "b = {3, 4, 5, 6}\n",
        "a.difference_update(b)\n",
        "print(a)"
      ]
    },
    {
      "cell_type": "markdown",
      "id": "c6ac45f8",
      "metadata": {
        "id": "c6ac45f8"
      },
      "source": [
        "### Сводная таблица операций с множествами:\n",
        "Операция  | Альтернатива | Значение \n",
        "---|---|---\n",
        "`A \\| B` | `A.union(B)`  | Возвращает множество, являющееся объединением множеств A и B. \n",
        "`A \\|= B` | `A.update(B)` | Записывает в A объединение множеств A и B. \n",
        "`A & B` | `A.intersection(B)`  | Возвращает множество, являющееся пересечением множеств A и B. \n",
        "`A &= B` | `A.intersection_update(B)`  | Записывает в A пересечение множеств A и B. \n",
        "`A - B` | `A.difference(B)`  | Возвращает разность множеств A и B (элементы, входящие в A, но не входящие в B). \n",
        "`A -= B` | `A.difference_update(B)`  | Записывает в A разность множеств A и B. \n",
        "`A ^ B` | `A.symmetric_difference(B)`  | Возвращает симметрическую разность множеств A и B (элементы, входящие в A или в B, но не в оба из них одновременно). \n",
        "`A ^= B` | `A.symmetric_difference_update(B)`  | Записывает в A симметрическую разность множеств A и B. \n",
        "`A <= B` | `A.issubset(B)`  | Возвращает True, если A является подмножеством B. \n",
        "`A >= B` | `A.issuperset(B)`  | Возвращает True, если B является подмножеством A. \n",
        "`A < B`  | | Эквивалентно A <= B and A != B \n",
        "`A > B`  | | Эквивалентно A >= B and A != B \n",
        "\n",
        "\n"
      ]
    },
    {
      "cell_type": "markdown",
      "id": "203fa32c",
      "metadata": {
        "id": "203fa32c"
      },
      "source": [
        "**Упражнение 0**. Вывести на экран все элементы множества A, которых нет в множестве B. Дописать код ниже."
      ]
    },
    {
      "cell_type": "code",
      "execution_count": 29,
      "id": "2f7da262",
      "metadata": {
        "id": "2f7da262",
        "colab": {
          "base_uri": "https://localhost:8080/"
        },
        "outputId": "328bddc7-7f0e-4310-e073-718c36034f3b"
      },
      "outputs": [
        {
          "output_type": "stream",
          "name": "stdout",
          "text": [
            "{'p', 'q', 'f', 'l', 'w'}\n"
          ]
        }
      ],
      "source": [
        "A = set('bqlpzlkwehrlulsdhfliuywemrlkjhsdlfjhlzxcovt')\n",
        "B = set('zmxcvnboaiyerjhbziuxdytvasenbriutsdvinjhgik')\n",
        "print(A-B)"
      ]
    },
    {
      "cell_type": "markdown",
      "id": "3661d47e",
      "metadata": {
        "id": "3661d47e"
      },
      "source": [
        "**Упражнение 1.** Считать через `input` строку, состоящую из 3 слов и найти буквы, входящие в каждое из слов."
      ]
    },
    {
      "cell_type": "code",
      "execution_count": 34,
      "id": "d5aa2772",
      "metadata": {
        "id": "d5aa2772",
        "colab": {
          "base_uri": "https://localhost:8080/"
        },
        "outputId": "7b2241e5-d7e2-44c9-ecde-4f7977011b91"
      },
      "outputs": [
        {
          "output_type": "stream",
          "name": "stdout",
          "text": [
            "qwer qwsdf qwvxcb\n",
            "{'q', 'w'}\n"
          ]
        }
      ],
      "source": [
        "a,b,c=map(set,input().split())\n",
        "print(a&b&c)"
      ]
    },
    {
      "cell_type": "markdown",
      "id": "b18e5d22",
      "metadata": {
        "id": "b18e5d22"
      },
      "source": [
        "**Упражнение 2.** Считать через `input` строку, состоящую из произвольного числа слов и найти буквы, входящие в каждое из слов."
      ]
    },
    {
      "cell_type": "code",
      "execution_count": 37,
      "id": "157e055b",
      "metadata": {
        "id": "157e055b",
        "colab": {
          "base_uri": "https://localhost:8080/"
        },
        "outputId": "545519b4-3261-4b89-a1a1-75c857e120db"
      },
      "outputs": [
        {
          "output_type": "stream",
          "name": "stdout",
          "text": [
            "uiop;l,mj iohkglypg jitkolh.; hyktohktyojk\n",
            "{'o'}\n"
          ]
        }
      ],
      "source": [
        "a=list(map(set,input().split()))\n",
        "b=a[0]\n",
        "for i in range (len(a)):\n",
        "  b&=a[i]\n",
        "print(b)"
      ]
    },
    {
      "cell_type": "markdown",
      "id": "e3534537",
      "metadata": {
        "id": "e3534537"
      },
      "source": [
        "**Упражнение 3\\*.** Считать через `input` несколько чисел через пробел и найти цифры, входящие в каждое из чисел. Использовать `while`."
      ]
    },
    {
      "cell_type": "code",
      "execution_count": 39,
      "id": "8808e2e6",
      "metadata": {
        "id": "8808e2e6",
        "colab": {
          "base_uri": "https://localhost:8080/"
        },
        "outputId": "9787323c-5deb-44b7-d46d-d3130091d11d"
      },
      "outputs": [
        {
          "output_type": "stream",
          "name": "stdout",
          "text": [
            "123456 234567 3456789\n",
            "{'6', '4', '3', '5'}\n"
          ]
        }
      ],
      "source": [
        "a=list(map(set,input().split()))\n",
        "b=a[0]\n",
        "i=0\n",
        "while i<len(a):\n",
        "  b&=a[i]\n",
        "  i+=1\n",
        "print(b)\n"
      ]
    },
    {
      "cell_type": "markdown",
      "id": "4c401aa6",
      "metadata": {
        "id": "4c401aa6"
      },
      "source": [
        "# Dict."
      ]
    },
    {
      "cell_type": "markdown",
      "id": "b1a52ec5",
      "metadata": {
        "id": "b1a52ec5"
      },
      "source": [
        "Кроме множеств также часто используются словари. Элемент словаря `dict` - это пара `ключ: значение`.\n",
        "Ключи позволяют обращаться к данным не по индексу, как это реализовано в списках, а по любому удобному значению.\n",
        "\n",
        "### Сводная таблица по операциям со словарями:\n",
        "Операция  | Значение \n",
        "---|---\n",
        "`value = A[key]` | Получение элемента по ключу. Если элемента с заданным ключом в словаре нет, то возникает исключение KeyError. \n",
        "`value = A.get(key)` | Получение элемента по ключу. Если элемента в словаре нет, то get возвращает None. \n",
        "`value = A.get(key, default_value)` | То же, но вместо None метод get возвращает default_value. \n",
        "`key in A` | Проверить принадлежность ключа словарю. \n",
        "`key not in A` | То же, что not key in A. \n",
        "`A[key] = value` | Добавление нового элемента в словарь. \n",
        "`del A[key]` | Удаление пары ключ-значение с ключом key. Возбуждает исключение KeyError, если такого ключа нет. \n",
        "`if key in A: del A[key]` | Удаление пары ключ-значение с предварительной проверкой наличия ключа. \n",
        "`value = A.pop(key)` | Удаление пары ключ-значение с ключом key и возврат значения удаляемого элемента.Если такого ключа нет, то возбуждается KeyError. \n",
        "`value = A.pop(key, default_value)` | То же, но вместо генерации исключения возвращается default_value. \n",
        "`A.pop(key, None)` | Это позволяет проще всего организовать безопасное удаление элемента из словаря. \n",
        "`len(A)` | Возвращает количество пар ключ-значение, хранящихся в словаре. \n"
      ]
    },
    {
      "cell_type": "code",
      "execution_count": 50,
      "id": "b85122e9",
      "metadata": {
        "id": "b85122e9",
        "colab": {
          "base_uri": "https://localhost:8080/"
        },
        "outputId": "1b9477c7-a633-48aa-882c-4b93bdbcb6a1"
      },
      "outputs": [
        {
          "output_type": "stream",
          "name": "stdout",
          "text": [
            "Москва\n"
          ]
        }
      ],
      "source": [
        "d = {\"Россия\": \"Москва\", \"Франция\": \"Париж\", \"Германия\": \"Берлин\"}\n",
        "print(d[\"Россия\"])"
      ]
    },
    {
      "cell_type": "markdown",
      "id": "eef7c663",
      "metadata": {
        "id": "eef7c663"
      },
      "source": [
        "Такой способ хранения данных в данном случае является более естественным и удобным. Создание словаря и добавление элементов:"
      ]
    },
    {
      "cell_type": "code",
      "execution_count": 51,
      "id": "612972f3",
      "metadata": {
        "id": "612972f3",
        "colab": {
          "base_uri": "https://localhost:8080/"
        },
        "outputId": "532fcef3-d241-46b2-80b7-9e403654b028"
      },
      "outputs": [
        {
          "output_type": "stream",
          "name": "stdout",
          "text": [
            "{'Россия': 'Москва'}\n"
          ]
        }
      ],
      "source": [
        "d = dict()\n",
        "d[\"Россия\"] = \"Москва\"\n",
        "print(d)"
      ]
    },
    {
      "cell_type": "markdown",
      "id": "fb99a70b",
      "metadata": {
        "id": "fb99a70b"
      },
      "source": [
        "Можно обращаться к ключам словаря, к значениям словаря, итерировать по ключам и по парам ключ-значение."
      ]
    },
    {
      "cell_type": "code",
      "execution_count": 52,
      "id": "0c99a37e",
      "metadata": {
        "id": "0c99a37e",
        "colab": {
          "base_uri": "https://localhost:8080/"
        },
        "outputId": "cf8cce6a-f8dc-482a-9a7c-fd465f9f705d"
      },
      "outputs": [
        {
          "output_type": "stream",
          "name": "stdout",
          "text": [
            "dict_keys(['Россия', 'Франция', 'Германия'])\n",
            "dict_values(['Москва', 'Париж', 'Берлин'])\n"
          ]
        }
      ],
      "source": [
        "d = {\"Россия\": \"Москва\", \"Франция\": \"Париж\", \"Германия\": \"Берлин\"}\n",
        "print(d.keys())\n",
        "print(d.values())"
      ]
    },
    {
      "cell_type": "code",
      "execution_count": 53,
      "id": "c4c30767",
      "metadata": {
        "id": "c4c30767",
        "colab": {
          "base_uri": "https://localhost:8080/"
        },
        "outputId": "e49a738d-1d37-4c1d-97bf-ea8fa1ef39db"
      },
      "outputs": [
        {
          "output_type": "stream",
          "name": "stdout",
          "text": [
            "Москва\n",
            "Париж\n",
            "Берлин\n"
          ]
        }
      ],
      "source": [
        "for k in d.keys():\n",
        "    print(d[k])"
      ]
    },
    {
      "cell_type": "code",
      "execution_count": 54,
      "id": "95a8fdf1",
      "metadata": {
        "id": "95a8fdf1",
        "colab": {
          "base_uri": "https://localhost:8080/"
        },
        "outputId": "c32a1f30-1bfa-4052-f7bf-29e39156a387"
      },
      "outputs": [
        {
          "output_type": "stream",
          "name": "stdout",
          "text": [
            "Россия Москва\n",
            "Франция Париж\n",
            "Германия Берлин\n"
          ]
        }
      ],
      "source": [
        "for k, v in d.items():\n",
        "    print(k, v)"
      ]
    },
    {
      "cell_type": "code",
      "execution_count": 45,
      "id": "7304ca5e",
      "metadata": {
        "id": "7304ca5e",
        "colab": {
          "base_uri": "https://localhost:8080/"
        },
        "outputId": "557b4f05-880f-46bc-90c8-d2b09bd65f81"
      },
      "outputs": [
        {
          "output_type": "stream",
          "name": "stdout",
          "text": [
            "dict_items([('Россия', 'Москва'), ('Франция', 'Париж'), ('Германия', 'Берлин')])\n"
          ]
        }
      ],
      "source": [
        "print(d.items())"
      ]
    },
    {
      "cell_type": "code",
      "execution_count": 55,
      "id": "5c088447",
      "metadata": {
        "id": "5c088447",
        "colab": {
          "base_uri": "https://localhost:8080/"
        },
        "outputId": "f6def4aa-8fd1-4743-e9c1-c627bc9fa6b9"
      },
      "outputs": [
        {
          "output_type": "stream",
          "name": "stdout",
          "text": [
            "[('Россия', 'Москва'), ('Франция', 'Париж'), ('Германия', 'Берлин')]\n"
          ]
        }
      ],
      "source": [
        "print(list(d.items()))"
      ]
    },
    {
      "cell_type": "markdown",
      "id": "f6560523",
      "metadata": {
        "id": "f6560523"
      },
      "source": [
        "Можем сортировать такие объекты, например, по странам в лексикографическом порядке:"
      ]
    },
    {
      "cell_type": "code",
      "execution_count": 56,
      "id": "c84c8635",
      "metadata": {
        "id": "c84c8635",
        "colab": {
          "base_uri": "https://localhost:8080/"
        },
        "outputId": "e864447c-b8f7-4f79-d81b-27be91dcb418"
      },
      "outputs": [
        {
          "output_type": "stream",
          "name": "stdout",
          "text": [
            "[('Германия', 'Берлин'), ('Россия', 'Москва'), ('Франция', 'Париж')]\n"
          ]
        }
      ],
      "source": [
        "d = list(d.items())\n",
        "d = sorted(d, key = lambda x: x[0])\n",
        "print(d)"
      ]
    },
    {
      "cell_type": "markdown",
      "id": "59e0e44f",
      "metadata": {
        "id": "59e0e44f"
      },
      "source": [
        "# Set comprehensions. Dict comprehensions."
      ]
    },
    {
      "cell_type": "markdown",
      "id": "83b2e7ad",
      "metadata": {
        "id": "83b2e7ad"
      },
      "source": [
        "Можно генерировать множества и словари по аналогии со списками:"
      ]
    },
    {
      "cell_type": "code",
      "execution_count": 58,
      "id": "e19ab542",
      "metadata": {
        "id": "e19ab542",
        "colab": {
          "base_uri": "https://localhost:8080/"
        },
        "outputId": "4ddaccdb-4261-4123-c596-8982effb1695"
      },
      "outputs": [
        {
          "output_type": "stream",
          "name": "stdout",
          "text": [
            "[-5, -4, -3, -2, -1, 0, 1, 2, 3, 4]\n",
            "{0, 1, 2, 3, 4, -1, -5, -4, -3, -2}\n",
            "[5, 4, 3, 2, 1, 0, 1, 2, 3, 4]\n",
            "{0, 1, 2, 3, 4, 5}\n"
          ]
        }
      ],
      "source": [
        "a = [i for i in range(-5, 5)]\n",
        "print(a)\n",
        "a = {i for i in range(-5, 5)}\n",
        "print(a)\n",
        "a = [abs(i) for i in range(-5, 5)]\n",
        "print(a)\n",
        "a = {abs(i) for i in range(-5, 5)}\n",
        "print(a)"
      ]
    },
    {
      "cell_type": "markdown",
      "id": "5e1eae9b",
      "metadata": {
        "id": "5e1eae9b"
      },
      "source": [
        "Для определения порядкового номера символа в таблице символов ASCII используется функция `ord`:"
      ]
    },
    {
      "cell_type": "code",
      "execution_count": 59,
      "id": "0a141a96",
      "metadata": {
        "id": "0a141a96",
        "colab": {
          "base_uri": "https://localhost:8080/"
        },
        "outputId": "a8dd3089-e238-4af6-8d20-671da3602d0a"
      },
      "outputs": [
        {
          "output_type": "stream",
          "name": "stdout",
          "text": [
            "97\n",
            "65 90 97 122\n"
          ]
        }
      ],
      "source": [
        "s = \"a\"\n",
        "print(ord(s))\n",
        "print(ord('A'), ord('Z'), ord('a'), ord('z'))"
      ]
    },
    {
      "cell_type": "markdown",
      "id": "8ce05fc6",
      "metadata": {
        "id": "8ce05fc6"
      },
      "source": [
        "Обратная к ней функция, возвращающая символ по его порядковому номеру - `chr`:"
      ]
    },
    {
      "cell_type": "code",
      "execution_count": 60,
      "id": "0974a43c",
      "metadata": {
        "id": "0974a43c",
        "colab": {
          "base_uri": "https://localhost:8080/"
        },
        "outputId": "08ea5342-c364-4099-8c7c-cd7e9ee31cc6"
      },
      "outputs": [
        {
          "output_type": "stream",
          "name": "stdout",
          "text": [
            "A Z a z\n"
          ]
        }
      ],
      "source": [
        "print(chr(65), chr(90), chr(97), chr(122))"
      ]
    },
    {
      "cell_type": "markdown",
      "id": "cb0ffe6d",
      "metadata": {
        "id": "cb0ffe6d"
      },
      "source": [
        "Создадим словарь, состоящий из пар элементов `номер буквы в таблице ASCII`: `буква`."
      ]
    },
    {
      "cell_type": "code",
      "execution_count": null,
      "id": "4aed5b7e",
      "metadata": {
        "id": "4aed5b7e"
      },
      "outputs": [],
      "source": [
        "print(d[70])"
      ]
    },
    {
      "cell_type": "markdown",
      "id": "c1e21462",
      "metadata": {
        "id": "c1e21462"
      },
      "source": [
        "**Упражнение 4.** Создайте аналогичный словарь для маленьких букв, выведите его, затем добавьте в него большие буквы и выведите итоговый словарь."
      ]
    },
    {
      "cell_type": "code",
      "execution_count": 74,
      "id": "bdc88da2",
      "metadata": {
        "id": "bdc88da2",
        "colab": {
          "base_uri": "https://localhost:8080/"
        },
        "outputId": "c6fd658e-c3c0-4454-d4d5-9c25935ebe5a"
      },
      "outputs": [
        {
          "output_type": "stream",
          "name": "stdout",
          "text": [
            "{97: 'a', 98: 'b', 99: 'c', 100: 'd', 101: 'e', 102: 'f', 103: 'g', 104: 'h', 105: 'i', 106: 'j', 107: 'k', 108: 'l', 109: 'm', 110: 'n', 111: 'o', 112: 'p', 113: 'q', 114: 'r', 115: 's', 116: 't', 117: 'u', 118: 'v', 119: 'w', 120: 'x', 121: 'y', 122: 'z', 65: 'A', 66: 'B', 67: 'C', 68: 'D', 69: 'E', 70: 'F', 71: 'G', 72: 'H', 73: 'I', 74: 'J', 75: 'K', 76: 'L', 77: 'M', 78: 'N', 79: 'O', 80: 'P', 81: 'Q', 82: 'R', 83: 'S', 84: 'T', 85: 'U', 86: 'V', 87: 'W', 88: 'X', 89: 'Y', 90: 'Z'}\n"
          ]
        }
      ],
      "source": [
        "d = {i: chr(i) for i in range(97, 123)}\n",
        "for i in range (65,91):\n",
        "  d[i]=chr(i)\n",
        "print(d)"
      ]
    },
    {
      "cell_type": "markdown",
      "id": "a7c957f4",
      "metadata": {
        "id": "a7c957f4"
      },
      "source": [
        "**Упражнение 5.** Создайте словарь, в котором каждой букве (как ключу) будет соответствовать ее порядковый номер в алфавите (значение). Рекомендация: использовать функции `keys`, `values` или `items` для словаря из предыдущего упражнения, чтобы создать новый."
      ]
    },
    {
      "cell_type": "code",
      "execution_count": 104,
      "id": "70071da3",
      "metadata": {
        "id": "70071da3",
        "colab": {
          "base_uri": "https://localhost:8080/"
        },
        "outputId": "4429460f-4271-49b6-9dc1-03a58fb0febd"
      },
      "outputs": [
        {
          "output_type": "stream",
          "name": "stdout",
          "text": [
            "{'a': 1, 'b': 2, 'c': 3, 'd': 4, 'e': 5, 'f': 6, 'g': 7, 'h': 8, 'i': 9, 'j': 10, 'k': 11, 'l': 12, 'm': 13, 'n': 14, 'o': 15, 'p': 16, 'q': 17, 'r': 18, 's': 19, 't': 20, 'u': 21, 'v': 22, 'w': 23, 'x': 24, 'y': 25, 'z': 26, 'A': 1, 'B': 2, 'C': 3, 'D': 4, 'E': 5, 'F': 6, 'G': 7, 'H': 8, 'I': 9, 'J': 10, 'K': 11, 'L': 12, 'M': 13, 'N': 14, 'O': 15, 'P': 16, 'Q': 17, 'R': 18, 'S': 19, 'T': 20, 'U': 21, 'V': 22, 'W': 23, 'X': 24, 'Y': 25, 'Z': 26}\n"
          ]
        }
      ],
      "source": [
        "a=list(d.values())\n",
        "s={}\n",
        "for i in range (26):\n",
        "  s[a[i]]=(i+1)%27\n",
        "for i in range (26):\n",
        "  s[a[i+26]]=(i+1)%27\n",
        "print(s)\n",
        "\n"
      ]
    },
    {
      "cell_type": "markdown",
      "id": "d4d2ca80",
      "metadata": {
        "id": "d4d2ca80"
      },
      "source": [
        "**Упражнение 6.** Считайте слово с клавиатуры и найдите для него сумму номеров букв. Если некоторые буквы в слове повторяются (используйте такое слово), нужно считать только по уникальным буквам. Например, для строк 'abc' и 'abcbc' сумма будет 1+2+3=6, для xyz или zyxyz 24+25+26=75"
      ]
    },
    {
      "cell_type": "code",
      "execution_count": 108,
      "id": "ab97878c",
      "metadata": {
        "id": "ab97878c",
        "colab": {
          "base_uri": "https://localhost:8080/"
        },
        "outputId": "0e670c5b-0677-41a5-a591-8e4b6837482c"
      },
      "outputs": [
        {
          "output_type": "stream",
          "name": "stdout",
          "text": [
            "abcbc\n",
            "6\n"
          ]
        }
      ],
      "source": [
        "b=list(set(input()))\n",
        "summ=0\n",
        "for el in b:\n",
        "  summ+=s[el]\n",
        "print(summ)"
      ]
    },
    {
      "cell_type": "markdown",
      "id": "8cb4046e",
      "metadata": {
        "id": "8cb4046e"
      },
      "source": [
        "**Упражнение 7.** Считайте с клавиатуры количество пар синонимов, затем сами пары синонимов, затем одно из слов среди этих пар. Выведите его синоним. Допишите код, заменив все TODO. Пример ввода:\n",
        "\n",
        "    3\n",
        "    Hello Hi\n",
        "    Bye Goodbye\n",
        "    List Array\n",
        "    Goodbye"
      ]
    },
    {
      "cell_type": "code",
      "execution_count": 117,
      "id": "7aea4c21",
      "metadata": {
        "id": "7aea4c21",
        "colab": {
          "base_uri": "https://localhost:8080/"
        },
        "outputId": "3c38fb9f-11b3-48e0-d47d-55806eb218f9"
      },
      "outputs": [
        {
          "output_type": "stream",
          "name": "stdout",
          "text": [
            "2\n",
            "werer ewtt\n",
            "qwewr erw\n",
            "werer\n",
            "ewtt\n"
          ]
        }
      ],
      "source": [
        "n = int(input())\n",
        "d = dict()\n",
        "for i in range(n):\n",
        "    s = input()\n",
        "    ss=list(map(str,s.split()))\n",
        "    d[ss[0]]=ss[1]\n",
        "    d[ss[1]]=ss[0]\n",
        "    \n",
        "s = input()\n",
        "print(d[s])\n"
      ]
    },
    {
      "cell_type": "markdown",
      "id": "d4f833ac",
      "metadata": {
        "id": "d4f833ac"
      },
      "source": [
        "# Частотный анализ."
      ]
    },
    {
      "cell_type": "markdown",
      "id": "20546c74",
      "metadata": {
        "id": "20546c74"
      },
      "source": [
        "Вместо использования метода `count` для подсчета числа вхождений символа в большой текст лучше использовать `dict`. Для многократного поиска это будет работать быстрее, так как мы заполним словарь за один проход по данному тексту."
      ]
    },
    {
      "cell_type": "code",
      "execution_count": 118,
      "id": "97cbd7e4",
      "metadata": {
        "id": "97cbd7e4",
        "colab": {
          "base_uri": "https://localhost:8080/"
        },
        "outputId": "06a13d99-963a-48c2-efb6-26e718df4d86"
      },
      "outputs": [
        {
          "output_type": "stream",
          "name": "stdout",
          "text": [
            "{'a': 5, 'b': 2, 'r': 2, 'c': 1, 'd': 1}\n"
          ]
        }
      ],
      "source": [
        "s = \"abracadabra\"\n",
        "d = dict()\n",
        "for i in s:\n",
        "    if i in d:\n",
        "        d[i] += 1\n",
        "    else:\n",
        "        d[i] = 1\n",
        "print(d)"
      ]
    },
    {
      "cell_type": "code",
      "execution_count": 119,
      "id": "1e25a4b0",
      "metadata": {
        "id": "1e25a4b0",
        "colab": {
          "base_uri": "https://localhost:8080/"
        },
        "outputId": "142f65bc-ac36-4c0e-ab99-47f1e364ff5e"
      },
      "outputs": [
        {
          "output_type": "stream",
          "name": "stdout",
          "text": [
            "5\n",
            "5\n"
          ]
        }
      ],
      "source": [
        "print(s.count('a'))\n",
        "print(d['a'])"
      ]
    },
    {
      "cell_type": "code",
      "execution_count": 120,
      "id": "794b68f1",
      "metadata": {
        "id": "794b68f1",
        "colab": {
          "base_uri": "https://localhost:8080/"
        },
        "outputId": "403fabab-e71a-4eb7-bceb-56835c435371"
      },
      "outputs": [
        {
          "output_type": "stream",
          "name": "stdout",
          "text": [
            "abracadabraabracadabraabracadabraabracadabraabracadabraabracadabraabracadabraabracadabraabracadabraa\n"
          ]
        }
      ],
      "source": [
        "s = \"abracadabra\" * 1000000\n",
        "print(s[:100])"
      ]
    },
    {
      "cell_type": "code",
      "execution_count": 128,
      "id": "aaa4527a",
      "metadata": {
        "id": "aaa4527a",
        "colab": {
          "base_uri": "https://localhost:8080/"
        },
        "outputId": "441ceb31-e68f-4351-8275-8208e442b0ce"
      },
      "outputs": [
        {
          "output_type": "stream",
          "name": "stdout",
          "text": [
            "5000000\n",
            "2.109246015548706\n"
          ]
        }
      ],
      "source": [
        "import time\n",
        "t1 = time.time()\n",
        "d = dict()\n",
        "for i in s:\n",
        "    if i in d:\n",
        "        d[i] += 1\n",
        "    else:\n",
        "        d[i] = 1\n",
        "\n",
        "print(d['a'])\n",
        "t2 = time.time()\n",
        "print(t2 - t1)\n"
      ]
    },
    {
      "cell_type": "code",
      "execution_count": 127,
      "id": "0225f5e3",
      "metadata": {
        "id": "0225f5e3",
        "colab": {
          "base_uri": "https://localhost:8080/"
        },
        "outputId": "8ee452eb-2a98-4317-8f44-477b2dffadde"
      },
      "outputs": [
        {
          "output_type": "stream",
          "name": "stdout",
          "text": [
            "5000000\n",
            "0.015374898910522461\n"
          ]
        }
      ],
      "source": [
        "t3 = time.time()\n",
        "print(s.count('a'))\n",
        "t4 = time.time()\n",
        "print(t4 - t3)"
      ]
    },
    {
      "cell_type": "markdown",
      "id": "fb903399",
      "metadata": {
        "id": "fb903399"
      },
      "source": [
        "**Упражнение 8**. Считайте с клавиатуры строку, удалите из нее все цифры и пробелы. Создайте словарь, в котором ключами будут уникальные символы, а значениями их частота вхождения. Частотой вхождения называется отношение числа вхождений данного символа в исходную строку к числу символов в исходной строке."
      ]
    },
    {
      "cell_type": "code",
      "execution_count": 142,
      "id": "a82c1e51",
      "metadata": {
        "id": "a82c1e51",
        "colab": {
          "base_uri": "https://localhost:8080/"
        },
        "outputId": "d6488227-e5fb-4073-e8fd-23fef55b2e91"
      },
      "outputs": [
        {
          "output_type": "stream",
          "name": "stdout",
          "text": [
            "1a2a3b4m 6aavkbfgbbb\n",
            "{'a': 0.2, 'b': 0.25, 'm': 0.05, 'v': 0.05, 'k': 0.05, 'f': 0.05, 'g': 0.05}\n"
          ]
        }
      ],
      "source": [
        "s=input()\n",
        "length=len(s)\n",
        "#print(length)\n",
        "s=s.replace(' ','')\n",
        "for i in range (10):\n",
        "  s=s.replace(str(i),'')\n",
        "#print(s)\n",
        "d = dict()\n",
        "for i in s:\n",
        "    if i in d:\n",
        "        d[i] += 1\n",
        "    else:\n",
        "        d[i] = 1\n",
        "#print(d,length)\n",
        "for el in d:\n",
        "  d[el]/=length\n",
        "print(d)\n",
        "\n"
      ]
    },
    {
      "cell_type": "markdown",
      "id": "b082dac3",
      "metadata": {
        "id": "b082dac3"
      },
      "source": [
        "# Collections."
      ]
    },
    {
      "cell_type": "markdown",
      "id": "ce4947f8",
      "metadata": {
        "id": "ce4947f8"
      },
      "source": [
        "Существуют также другие стандартные коллекции, которые позволяют решать некоторые задачи еще проще."
      ]
    },
    {
      "cell_type": "code",
      "execution_count": 144,
      "id": "57a20035",
      "metadata": {
        "id": "57a20035",
        "colab": {
          "base_uri": "https://localhost:8080/"
        },
        "outputId": "a70b078d-76ba-4958-83d3-030cee3d1970"
      },
      "outputs": [
        {
          "output_type": "execute_result",
          "data": {
            "text/plain": [
              "Counter({'red': 2, 'blue': 3, 'green': 1})"
            ]
          },
          "metadata": {},
          "execution_count": 144
        }
      ],
      "source": [
        "import collections\n",
        "cnt = collections.Counter()\n",
        "for word in ['red', 'blue', 'red', 'green', 'blue', 'blue']:\n",
        "    cnt[word] += 1\n",
        "cnt"
      ]
    },
    {
      "cell_type": "code",
      "execution_count": 145,
      "id": "81553050",
      "metadata": {
        "id": "81553050",
        "colab": {
          "base_uri": "https://localhost:8080/"
        },
        "outputId": "47831033-1d02-4c98-de24-528324edef9f"
      },
      "outputs": [
        {
          "output_type": "execute_result",
          "data": {
            "text/plain": [
              "2"
            ]
          },
          "metadata": {},
          "execution_count": 145
        }
      ],
      "source": [
        "cnt['red']"
      ]
    },
    {
      "cell_type": "markdown",
      "id": "0834fd23",
      "metadata": {
        "id": "0834fd23"
      },
      "source": [
        "Можно сократить запись, переимпортировав из библиотеки конкретный модуль:"
      ]
    },
    {
      "cell_type": "code",
      "execution_count": 146,
      "id": "4dd6f478",
      "metadata": {
        "id": "4dd6f478",
        "colab": {
          "base_uri": "https://localhost:8080/"
        },
        "outputId": "8824ad68-c532-4669-9997-8e8b5fe3dc01"
      },
      "outputs": [
        {
          "output_type": "stream",
          "name": "stdout",
          "text": [
            "['a', 'a', 'a', 'a', 'b', 'b']\n"
          ]
        }
      ],
      "source": [
        "from collections import Counter\n",
        "c = Counter(a=4, b=2, c=0, d=-2)\n",
        "print(sorted(c.elements()))"
      ]
    },
    {
      "cell_type": "code",
      "execution_count": 150,
      "id": "d4c0fb62",
      "metadata": {
        "id": "d4c0fb62",
        "colab": {
          "base_uri": "https://localhost:8080/"
        },
        "outputId": "d26a08c3-106e-422c-ff74-feb9a98bbdb8"
      },
      "outputs": [
        {
          "output_type": "stream",
          "name": "stdout",
          "text": [
            "[('a', 5), ('b', 2), ('r', 2), ('c', 1)]\n"
          ]
        }
      ],
      "source": [
        "print(collections.Counter('abracadabra').most_common(4))"
      ]
    },
    {
      "cell_type": "code",
      "execution_count": 157,
      "id": "77eec292",
      "metadata": {
        "id": "77eec292",
        "colab": {
          "base_uri": "https://localhost:8080/"
        },
        "outputId": "57014166-7947-4864-f215-4fd2790019fb"
      },
      "outputs": [
        {
          "output_type": "stream",
          "name": "stdout",
          "text": [
            "Counter({'a': 4, 'b': 2, 'c': 0, 'd': -2}) ['a', 'b', 'b', 'c', 'c', 'c', 'd', 'd', 'd', 'd']\n",
            "['a', 'a', 'a']\n"
          ]
        }
      ],
      "source": [
        "c = Counter(a=4, b=2, c=0, d=-2)\n",
        "d = Counter(a=1, b=2, c=3, d=4)\n",
        "print(c,sorted(d.elements()))\n",
        "c.subtract(d)\n",
        "print(sorted(c.elements()))"
      ]
    },
    {
      "cell_type": "code",
      "execution_count": 153,
      "id": "cb239bab",
      "metadata": {
        "id": "cb239bab",
        "colab": {
          "base_uri": "https://localhost:8080/",
          "height": 183
        },
        "outputId": "57ab6674-8ec3-47bf-c3bc-63f1dbe3a182"
      },
      "outputs": [
        {
          "output_type": "error",
          "ename": "AttributeError",
          "evalue": "ignored",
          "traceback": [
            "\u001b[0;31m---------------------------------------------------------------------------\u001b[0m",
            "\u001b[0;31mAttributeError\u001b[0m                            Traceback (most recent call last)",
            "\u001b[0;32m<ipython-input-153-fe7a556fb144>\u001b[0m in \u001b[0;36m<module>\u001b[0;34m\u001b[0m\n\u001b[1;32m      1\u001b[0m \u001b[0mc\u001b[0m \u001b[0;34m=\u001b[0m \u001b[0mCounter\u001b[0m\u001b[0;34m(\u001b[0m\u001b[0ma\u001b[0m\u001b[0;34m=\u001b[0m\u001b[0;36m10\u001b[0m\u001b[0;34m,\u001b[0m \u001b[0mb\u001b[0m\u001b[0;34m=\u001b[0m\u001b[0;36m5\u001b[0m\u001b[0;34m,\u001b[0m \u001b[0mc\u001b[0m\u001b[0;34m=\u001b[0m\u001b[0;36m0\u001b[0m\u001b[0;34m)\u001b[0m\u001b[0;34m\u001b[0m\u001b[0;34m\u001b[0m\u001b[0m\n\u001b[0;32m----> 2\u001b[0;31m \u001b[0mc\u001b[0m\u001b[0;34m.\u001b[0m\u001b[0mtotal\u001b[0m\u001b[0;34m(\u001b[0m\u001b[0;34m)\u001b[0m \u001b[0;31m# new for Python 3.10+\u001b[0m\u001b[0;34m\u001b[0m\u001b[0;34m\u001b[0m\u001b[0m\n\u001b[0m",
            "\u001b[0;31mAttributeError\u001b[0m: 'Counter' object has no attribute 'total'"
          ]
        }
      ],
      "source": [
        "c = Counter(a=10, b=5, c=0)\n",
        "c.total() # new for Python 3.10+"
      ]
    },
    {
      "cell_type": "markdown",
      "id": "bfddca35",
      "metadata": {
        "id": "bfddca35"
      },
      "source": [
        "С другими коллекциями вы можете познакомиться самостоятельно, их использование выходит за рамки упражнений и контеста."
      ]
    },
    {
      "cell_type": "code",
      "execution_count": null,
      "id": "38c7c7d0",
      "metadata": {
        "id": "38c7c7d0"
      },
      "outputs": [],
      "source": []
    }
  ],
  "metadata": {
    "kernelspec": {
      "display_name": "Python 3 (ipykernel)",
      "language": "python",
      "name": "python3"
    },
    "language_info": {
      "codemirror_mode": {
        "name": "ipython",
        "version": 3
      },
      "file_extension": ".py",
      "mimetype": "text/x-python",
      "name": "python",
      "nbconvert_exporter": "python",
      "pygments_lexer": "ipython3",
      "version": "3.7.11"
    },
    "colab": {
      "provenance": [],
      "collapsed_sections": []
    }
  },
  "nbformat": 4,
  "nbformat_minor": 5
}
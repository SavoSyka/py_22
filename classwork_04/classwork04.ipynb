{
  "cells": [
    {
      "cell_type": "markdown",
      "metadata": {
        "id": "oqebwaKj91Ts"
      },
      "source": [
        "### Аннотация\n",
        "\n",
        "Ноутбук составлен на основе материалов [[1]](https://github.com/SciProgCentre/python-scientific-book/blob/master/pages/StudentEdition/05.ipynb), [[2]](https://github.com/SciProgCentre/python-scientific-book/blob/master/pages/StudentEdition/07.ipynb)"
      ]
    },
    {
      "cell_type": "code",
      "source": [
        "!pip install numpy"
      ],
      "metadata": {
        "colab": {
          "base_uri": "https://localhost:8080/"
        },
        "id": "1h0CoP6T-wGr",
        "outputId": "ecf213d7-09b6-4a6f-8e2b-2de400209085"
      },
      "execution_count": null,
      "outputs": [
        {
          "output_type": "stream",
          "name": "stdout",
          "text": [
            "Looking in indexes: https://pypi.org/simple, https://us-python.pkg.dev/colab-wheels/public/simple/\n",
            "Requirement already satisfied: numpy in /usr/local/lib/python3.7/dist-packages (1.21.6)\n"
          ]
        }
      ]
    },
    {
      "cell_type": "markdown",
      "metadata": {
        "id": "JQ6pXF1G91Tu"
      },
      "source": [
        "# NumPy\n"
      ]
    },
    {
      "cell_type": "markdown",
      "metadata": {
        "id": "MK6F1X6O91Tv"
      },
      "source": [
        "## Создание Numpy массивов"
      ]
    },
    {
      "cell_type": "code",
      "execution_count": null,
      "metadata": {
        "colab": {
          "base_uri": "https://localhost:8080/"
        },
        "id": "cHQMFWs_91Tw",
        "outputId": "40c54471-31b9-44ec-d283-a86ee017a8e6"
      },
      "outputs": [
        {
          "output_type": "stream",
          "name": "stdout",
          "text": [
            "[1. 2. 3.]\n",
            "\n",
            "[-1. -1. -1. -1. -1. -1. -1. -1. -1. -1.]\n",
            "\n",
            "[[0. 0. 0. 0. 0.]\n",
            " [0. 0. 0. 0. 0.]\n",
            " [0. 0. 0. 0. 0.]]\n",
            "\n",
            "[[[1. 1.]\n",
            "  [1. 1.]]\n",
            "\n",
            " [[1. 1.]\n",
            "  [1. 1.]]]\n",
            "\n",
            "[[1. 0. 0. 0. 0.]\n",
            " [0. 1. 0. 0. 0.]\n",
            " [0. 0. 1. 0. 0.]\n",
            " [0. 0. 0. 1. 0.]\n",
            " [0. 0. 0. 0. 1.]]\n",
            "(3, 5)\n"
          ]
        }
      ],
      "source": [
        "import numpy as np\n",
        "\n",
        "a = np.array([1, 2, 3], float) # Однмемерный массив из списка \n",
        "b = np.repeat(-1. ,10) # Массив полученные повоторением исходного объекта\n",
        "c = np.zeros((3, 5)) # Матрица из нулей размера 3х5\n",
        "d = np.ones((2, 2, 2)) # Трехмерный массив из единиц\n",
        "e = np.eye(5) # Единичная матрица\n",
        "print(a, b, c, d, e, sep='\\n\\n')\n",
        "print(c.shape) # Возвращает размерность массива, для двумерного это количество строк и столбцов"
      ]
    },
    {
      "cell_type": "code",
      "source": [
        "arr=np.array([])"
      ],
      "metadata": {
        "id": "0AUZU_dz5S-9"
      },
      "execution_count": 114,
      "outputs": []
    },
    {
      "cell_type": "code",
      "source": [
        "arr=np.append(arr,[0])"
      ],
      "metadata": {
        "id": "CrZEgvmU5X41"
      },
      "execution_count": 123,
      "outputs": []
    },
    {
      "cell_type": "code",
      "source": [
        "arr"
      ],
      "metadata": {
        "colab": {
          "base_uri": "https://localhost:8080/"
        },
        "id": "rgjCNapX7SL9",
        "outputId": "88663f2b-26b6-47d6-bf7d-e85acb25f38b"
      },
      "execution_count": 124,
      "outputs": [
        {
          "output_type": "execute_result",
          "data": {
            "text/plain": [
              "array([0.])"
            ]
          },
          "metadata": {},
          "execution_count": 124
        }
      ]
    },
    {
      "cell_type": "markdown",
      "metadata": {
        "id": "XwMFDqkG91Ty"
      },
      "source": [
        "## Арифметические операции с массивами  и векторизация\n",
        "\n",
        "Полезной особенностью numpy-массивов является так называемая _векторизация_ --- возможность делать быстрые поэлементные операции с массивами без использования цикла `for`."
      ]
    },
    {
      "cell_type": "code",
      "execution_count": null,
      "metadata": {
        "colab": {
          "base_uri": "https://localhost:8080/"
        },
        "id": "aVMtrKKS91Tz",
        "outputId": "8a4d9264-dac8-4dc0-9bb6-79ee845de2bc"
      },
      "outputs": [
        {
          "output_type": "stream",
          "name": "stdout",
          "text": [
            "[6. 4. 9.]\n",
            "[-4.  0. -3.]\n",
            "[ 5.  4. 18.]\n",
            "[5. 1. 2.]\n",
            "[1. 0. 3.]\n",
            "[  5.   4. 216.]\n",
            "[1.         1.41421356 1.73205081]\n",
            "6.0\n",
            "6.0\n",
            "27.0\n",
            "[False False False]\n",
            "[1.         2.         0.33333333]\n"
          ]
        }
      ],
      "source": [
        "a = np.array([1, 2, 3], float)\n",
        "b = np.array([5, 2, 6], float)\n",
        "print(a + b)\n",
        "print(a - b)\n",
        "print(a * b)\n",
        "print(b / a)\n",
        "print(a % b)\n",
        "print(b ** a)\n",
        "print(np.sqrt(a))\n",
        "print(np.sum(a))\n",
        "print(np.prod(a))\n",
        "print(a.dot(b)) # Скалярное произведение\n",
        "print(a > b)\n",
        "print(np.where(a != 2, 1 / a, a))"
      ]
    },
    {
      "cell_type": "markdown",
      "metadata": {
        "id": "eaSsgW3I91Tz"
      },
      "source": [
        "## Линейная алгебра\n",
        "\n",
        "NumPy также предоставляет набор встроенных функций и методов для работы с линейной алгеброй. Это всё можно найти в под-модуле `linalg`."
      ]
    },
    {
      "cell_type": "code",
      "execution_count": null,
      "metadata": {
        "colab": {
          "base_uri": "https://localhost:8080/"
        },
        "id": "l4-rUePz91Tz",
        "outputId": "41643aba-6082-40f2-ee8f-3a453d4cb5d1"
      },
      "outputs": [
        {
          "output_type": "stream",
          "name": "stdout",
          "text": [
            "[[4. 9. 1.]\n",
            " [2. 3. 2.]\n",
            " [0. 7. 1.]]\n",
            "-47.999999999999986\n",
            "-48.00000000000003\n",
            "[ 8.85591316  1.9391628  -2.79507597]\n",
            "[[-0.3663565  -0.54736745  0.25928158]\n",
            " [-0.88949768  0.5640176  -0.88091903]\n",
            " [-0.27308752  0.61828231  0.39592263]]\n"
          ]
        }
      ],
      "source": [
        "a = np.array([[4, 2, 0], [9, 3, 7], [1, 2, 1]], float)\n",
        "b = a.T # Транспонированый массив\n",
        "print(b)\n",
        "print(np.linalg.det(b))\n",
        "print(np.linalg.det(a)) # Ищем детерминант \n",
        "vals, vecs = np.linalg.eig(a)\n",
        "print(vals)\n",
        "print(vecs)"
      ]
    },
    {
      "cell_type": "markdown",
      "metadata": {
        "id": "_X2Bv0-F91T0"
      },
      "source": [
        "## Операции с индексами \n",
        "Оперативная память компьютера линейна, и поэтому даже многомерные массивы, на самом деле являются некоторыми линейными структурами, над которыми существуют система индексов, говорящих как именно читать этот линейный блок. Проведение операций над индексами в большистве случаев эффективно и поэтому операции смены размерности массива или транспонирования выполняются быстро"
      ]
    },
    {
      "cell_type": "code",
      "execution_count": null,
      "metadata": {
        "colab": {
          "base_uri": "https://localhost:8080/"
        },
        "id": "-uWy9hwK91T0",
        "outputId": "971f379f-5fc5-411f-d19b-a8f1deadacab"
      },
      "outputs": [
        {
          "output_type": "stream",
          "name": "stdout",
          "text": [
            "[[1 3]\n",
            " [2 4]]\n"
          ]
        }
      ],
      "source": [
        "a = np.asarray([[1, 2], [3, 4]])\n",
        "b = a.T # Транспонированый массив\n",
        "print(b)"
      ]
    },
    {
      "cell_type": "code",
      "execution_count": null,
      "metadata": {
        "colab": {
          "base_uri": "https://localhost:8080/"
        },
        "id": "wZqfh89291T1",
        "outputId": "f449a804-5fe1-4aa4-80db-be43cb0d702e"
      },
      "outputs": [
        {
          "output_type": "stream",
          "name": "stdout",
          "text": [
            "[[10  3]\n",
            " [ 2  4]]\n"
          ]
        }
      ],
      "source": [
        "b[0, 0] = 10\n",
        "print(b)"
      ]
    },
    {
      "cell_type": "code",
      "execution_count": null,
      "metadata": {
        "colab": {
          "base_uri": "https://localhost:8080/"
        },
        "id": "6MYsGsNr91T1",
        "outputId": "4022d1f1-5a2b-462d-afb0-36661a26d48e"
      },
      "outputs": [
        {
          "output_type": "stream",
          "name": "stdout",
          "text": [
            "[[10  2]\n",
            " [ 3  4]]\n"
          ]
        }
      ],
      "source": [
        "print(a)"
      ]
    },
    {
      "cell_type": "markdown",
      "metadata": {
        "id": "_d-8bPAA91T2"
      },
      "source": [
        "Как мы видим при изменени переменной `b` изменилась переменная `a`. Это произошло потому, что обе эти переменные использубют один и тот же кусок памяти, но по разному "
      ]
    },
    {
      "cell_type": "markdown",
      "metadata": {
        "id": "uyx0nysD91T2"
      },
      "source": [
        "## Срезы\n",
        "\n",
        "В numpy реализован удобный способ работы с элементами матрицы. Он позволяет пройтись по элементам с определенным шагом и в определенном направлении.\n",
        "\n",
        "Пусть у нас есть двумерная матрица. Стоит запомнить следущий синтаксис:\n",
        "- `[:]` -- получить все элементы матрицы\n",
        "- `[:, 0]` -- получить первый столбец матрицы\n",
        "- `[2, :]` -- получить третью строку матрицы\n",
        "- `[-2, :]` -- получить вторую строку матрицы с конца\n",
        "- `[::3, 0]` -- получить каждый третий элемент из первой строки\n",
        "- `[1:-1:3, 0]`-- получить каждый третий элемент первой строки начиная со второго и, возможно, закнчивая предпоследним"
      ]
    },
    {
      "cell_type": "code",
      "execution_count": null,
      "metadata": {
        "colab": {
          "base_uri": "https://localhost:8080/"
        },
        "id": "VDNmge8191T3",
        "outputId": "ba1b04eb-c7ca-4462-eb78-eaa47091c284"
      },
      "outputs": [
        {
          "output_type": "stream",
          "name": "stdout",
          "text": [
            "[  0   4   8  12  16  20  24  28  32  36  40  44  48  52  56  60  64  68\n",
            "  72  76  80  84  88  92  96 100 104 108 112 116 120 124 128 132 136 140\n",
            " 144 148 152 156 160 164 168 172 176 180 184 188 192 196 200 204 208 212\n",
            " 216 220 224 228 232 236 240 244 248 252 256 260 264 268 272 276 280 284\n",
            " 288 292 296 300 304 308 312 316 320]\n",
            "\n",
            "(81,)\n",
            "\n",
            "\n",
            "\n",
            "[[  0   4   8  12  16  20  24  28  32]\n",
            " [ 36  40  44  48  52  56  60  64  68]\n",
            " [ 72  76  80  84  88  92  96 100 104]\n",
            " [108 112 116 120 124 128 132 136 140]\n",
            " [144 148 152 156 160 164 168 172 176]\n",
            " [180 184 188 192 196 200 204 208 212]\n",
            " [216 220 224 228 232 236 240 244 248]\n",
            " [252 256 260 264 268 272 276 280 284]\n",
            " [288 292 296 300 304 308 312 316 320]]\n",
            "\n",
            "(9, 9)\n",
            "\n",
            "\n",
            "\n",
            "[[  0   8  16  24  32]\n",
            " [ 72  80  88  96 104]\n",
            " [144 152 160 168 176]\n",
            " [216 224 232 240 248]\n",
            " [288 296 304 312 320]] \n",
            "\n",
            "[[0.  2.4 4.8]\n",
            " [2.4 4.8 7.2]\n",
            " [4.8 7.2 9.6]] \n",
            "\n"
          ]
        }
      ],
      "source": [
        "array = np.array([i for i in range(0, 81*4, 4)])\n",
        "print(array, array.shape, \"\\n\", sep=\"\\n\\n\")\n",
        "\n",
        "matrix = array.reshape(9, 9)\n",
        "print(matrix, matrix.shape, \"\\n\", sep=\"\\n\\n\")\n",
        "\n",
        "print(matrix[::2, ::2], \"\\n\")\n",
        "\n",
        "print((matrix[::3, ::3] + matrix[::3, ::3].T) / 50, \"\\n\")"
      ]
    },
    {
      "cell_type": "markdown",
      "metadata": {
        "id": "y-2wc77a91T3"
      },
      "source": [
        "## Чтение даных\n",
        "\n",
        "Numpy также предоставляет функционал для чтения данных, который бывает весьма полезен"
      ]
    },
    {
      "cell_type": "code",
      "execution_count": null,
      "metadata": {
        "colab": {
          "base_uri": "https://localhost:8080/"
        },
        "id": "FHDERvVC91T3",
        "outputId": "404ac9dc-460b-4b18-8254-316cfaee5cb7"
      },
      "outputs": [
        {
          "output_type": "stream",
          "name": "stdout",
          "text": [
            "cat: data/data.txt: No such file or directory\n"
          ]
        }
      ],
      "source": [
        "!cat data/data.txt"
      ]
    },
    {
      "cell_type": "code",
      "execution_count": null,
      "metadata": {
        "id": "YLc35VXQ91T4"
      },
      "outputs": [],
      "source": [
        "data = np.loadtxt('./data/data.txt')\n",
        "data"
      ]
    },
    {
      "cell_type": "markdown",
      "metadata": {
        "id": "jcfYK0qh91T4"
      },
      "source": [
        "## Задание по numpy\n",
        "\n",
        "1. Создайте вектор с элементами от 1 до 99 включительно\n",
        "2. Выведите все значения с шагом 3\n",
        "3. Посчитайте сумму троек элементов из предыдущего пункта\n",
        "4. Сделайте `reshape` для массива из предыдущего пункта в матрицу размера 11х3\n",
        "5. Транспонируйте матрицу из предыдущего пункта\n",
        "6. Произведите векторное умножение матрицы из предыдущего пункта на вектор размерности 11 из элементов от -9 до -1\n",
        "7. Запишите срез матрицы из пункта `5` в файл `matrix.dat`. Срез должен включать в себя 1, 5, 9 столбцы и 0 и 2 строки. **Подсказка**: требуется вписать элементы матрицы, которая состоит из пересечения соответсвующих столбцов и строк.\n",
        "8. Посчитайте детерминант матрицы, которая содержит в себе строки 2, 5, 8 из матрицы пункта `4`.\n",
        "9. `*`Создайте два вектора длины 10. Элементы первого вектора -- первые 10 простых чисел со знаком минус, второго вектора -- первые 10 чисел последовательности Фибоначчи. Посчитайте скалярное произведение двух векторов. **Указание**: для получения простых чисел и чисел из последовательности Фибоначчи реализуйте функции `prime_number` и `fibonacci_number`.\n",
        "10. `*`Реализуйте функцию вычисления матричной экспоненты\n",
        "$e^X = \\sum\\limits_{i = 0}^{n} \\frac{1}{k!} X^k$, $X^k$ -- матрица $X$ в степени $k$, $X^0 = I$\n",
        "\n",
        "Замечания:\n",
        "- Пункты `*` реализуются по завршению блока заданий на `matplotlib`.\n",
        "- Задания делать внутри следующей ячейки ноутбука. Если работаете в Pycharm, то сохраняйте в файлы `numpy_i.py`, где `i` указывает пункт задания.\n",
        "- Задания, или готовый ноутбук, сохранять в директории (папке) `classwork04`. **Никак иначе диеректорию не называть!**"
      ]
    },
    {
      "cell_type": "code",
      "source": [],
      "metadata": {
        "id": "fOA5ZK40J0BW"
      },
      "execution_count": 75,
      "outputs": []
    },
    {
      "cell_type": "code",
      "execution_count": 76,
      "metadata": {
        "colab": {
          "base_uri": "https://localhost:8080/"
        },
        "id": "Zpp0cyki91T6",
        "outputId": "bceceff7-00d2-4c57-9eb5-87e069dd34ac"
      },
      "outputs": [
        {
          "output_type": "stream",
          "name": "stdout",
          "text": [
            "[ 1  2  3  4  5  6  7  8  9 10 11 12 13 14 15 16 17 18 19 20 21 22 23 24\n",
            " 25 26 27 28 29 30 31 32 33 34 35 36 37 38 39 40 41 42 43 44 45 46 47 48\n",
            " 49 50 51 52 53 54 55 56 57 58 59 60 61 62 63 64 65 66 67 68 69 70 71 72\n",
            " 73 74 75 76 77 78 79 80 81 82 83 84 85 86 87 88 89 90 91 92 93 94 95 96\n",
            " 97 98 99]\n"
          ]
        }
      ],
      "source": [
        "array = np.array([i for i in range(1, 100, 1)])\n",
        "print(array)"
      ]
    },
    {
      "cell_type": "code",
      "source": [
        "newarr=array[::3]\n",
        "print(newarr)"
      ],
      "metadata": {
        "colab": {
          "base_uri": "https://localhost:8080/"
        },
        "id": "c7hYmQZeDC2D",
        "outputId": "6253e0a0-db1a-4d7b-d136-9350722e9ebc"
      },
      "execution_count": 77,
      "outputs": [
        {
          "output_type": "stream",
          "name": "stdout",
          "text": [
            "[ 1  4  7 10 13 16 19 22 25 28 31 34 37 40 43 46 49 52 55 58 61 64 67 70\n",
            " 73 76 79 82 85 88 91 94 97]\n"
          ]
        }
      ]
    },
    {
      "cell_type": "code",
      "source": [
        "matrix = newarr.reshape(11, 3)\n",
        "for i in range (11):\n",
        "  print(sum(matrix[i]))"
      ],
      "metadata": {
        "colab": {
          "base_uri": "https://localhost:8080/"
        },
        "id": "Wg-RyifqDLDL",
        "outputId": "5ea94979-b53e-41fb-b812-72331de107b1"
      },
      "execution_count": 78,
      "outputs": [
        {
          "output_type": "stream",
          "name": "stdout",
          "text": [
            "12\n",
            "39\n",
            "66\n",
            "93\n",
            "120\n",
            "147\n",
            "174\n",
            "201\n",
            "228\n",
            "255\n",
            "282\n"
          ]
        }
      ]
    },
    {
      "cell_type": "code",
      "source": [
        "print(matrix)"
      ],
      "metadata": {
        "colab": {
          "base_uri": "https://localhost:8080/"
        },
        "id": "LXLMaW0WD2Ts",
        "outputId": "32f7af11-230a-475e-f646-019835e1571c"
      },
      "execution_count": 79,
      "outputs": [
        {
          "output_type": "stream",
          "name": "stdout",
          "text": [
            "[[ 1  4  7]\n",
            " [10 13 16]\n",
            " [19 22 25]\n",
            " [28 31 34]\n",
            " [37 40 43]\n",
            " [46 49 52]\n",
            " [55 58 61]\n",
            " [64 67 70]\n",
            " [73 76 79]\n",
            " [82 85 88]\n",
            " [91 94 97]]\n"
          ]
        }
      ]
    },
    {
      "cell_type": "code",
      "source": [
        "transp_matrix=matrix.T\n",
        "print(transp_matrix)"
      ],
      "metadata": {
        "colab": {
          "base_uri": "https://localhost:8080/"
        },
        "id": "b2cuDJQsEVBE",
        "outputId": "e5eb0f98-b574-436e-c8fc-c59b8286d759"
      },
      "execution_count": 80,
      "outputs": [
        {
          "output_type": "stream",
          "name": "stdout",
          "text": [
            "[[ 1 10 19 28 37 46 55 64 73 82 91]\n",
            " [ 4 13 22 31 40 49 58 67 76 85 94]\n",
            " [ 7 16 25 34 43 52 61 70 79 88 97]]\n"
          ]
        }
      ]
    },
    {
      "cell_type": "code",
      "source": [
        "arr = np.array([i for i in range(-11, 0, 1)])\n",
        "prod=transp_matrix.dot(arr)\n",
        "print(prod)"
      ],
      "metadata": {
        "colab": {
          "base_uri": "https://localhost:8080/"
        },
        "id": "2b-VJq2vEqlD",
        "outputId": "5797123d-56f6-4b36-d2af-ed64e3b1fd64"
      },
      "execution_count": 81,
      "outputs": [
        {
          "output_type": "stream",
          "name": "stdout",
          "text": [
            "[-2046 -2244 -2442]\n"
          ]
        }
      ]
    },
    {
      "cell_type": "code",
      "source": [
        "for_save=transp_matrix[::2,1::4]\n",
        "np.save('matrix',for_save)\n"
      ],
      "metadata": {
        "id": "JJjo38HhJ1e2"
      },
      "execution_count": 82,
      "outputs": []
    },
    {
      "cell_type": "code",
      "source": [
        "new_matrix=matrix[2::3]\n",
        "print(np.linalg.det(new_matrix))"
      ],
      "metadata": {
        "colab": {
          "base_uri": "https://localhost:8080/"
        },
        "id": "J6pioaqbKUN7",
        "outputId": "2360d8ef-6037-46d6-b84f-1f015558ef29"
      },
      "execution_count": 83,
      "outputs": [
        {
          "output_type": "stream",
          "name": "stdout",
          "text": [
            "-1.151079231931359e-12\n"
          ]
        }
      ]
    },
    {
      "cell_type": "code",
      "source": [
        "def prime_number(n):\n",
        "    number = 1\n",
        "    g=0\n",
        "    arr=np.array([])\n",
        "    while g <n:\n",
        "        list_divider = []\n",
        "        for i in range(1, number + 1):\n",
        "            if number % i == 0:\n",
        "                list_divider.append(i)\n",
        "        if len(list_divider) == 2:\n",
        "            arr=np.append(arr,number)\n",
        "            g+=1\n",
        "            number += 1\n",
        "        else:\n",
        "            number+=1\n",
        "    return(arr)\n",
        "\n",
        "def fibonacci_number(n):\n",
        "    if n in (0, 1):\n",
        "        return 1\n",
        "    return fibonacci_number(n - 1) + fibonacci_number(n - 2)\n",
        "\n",
        "fib=np.array([fibonacci_number(i) for i in range (10)])\n",
        "prost=prime_number(10)\n",
        "print(prost.dot(fib))\n"
      ],
      "metadata": {
        "id": "m-QQX1TLVMmC",
        "colab": {
          "base_uri": "https://localhost:8080/"
        },
        "outputId": "207ba908-d63c-4fc1-ec2b-690fa249016a"
      },
      "execution_count": 131,
      "outputs": [
        {
          "output_type": "stream",
          "name": "stdout",
          "text": [
            "3192.0\n"
          ]
        }
      ]
    },
    {
      "cell_type": "code",
      "source": [],
      "metadata": {
        "id": "adq4K9KgwMld"
      },
      "execution_count": null,
      "outputs": []
    },
    {
      "cell_type": "markdown",
      "metadata": {
        "id": "mnQ_k4ne91T6"
      },
      "source": [
        "# Matplotlib"
      ]
    },
    {
      "cell_type": "markdown",
      "metadata": {
        "id": "7qSzlnmP91T7"
      },
      "source": [
        "# Построение графиков\n",
        "\n",
        "Для построения графиков чаще всего используется `matplotlib.pyplot`. Больше информации можно найти по этим ссылкам:\n",
        "* [Научная графика в python](https://nbviewer.jupyter.org/github/whitehorn/Scientific_graphics_in_python/tree/master/) --- уроки по `matplotlib` на русском языке.\n",
        "* [Галерея  `matplotlib`](https://matplotlib.org/3.1.1/gallery/index.html) --- галерея примеров на официальном сайте `matplotlib`, выбираете нужный вам пример и смотрите как он сделан.\n",
        "\n",
        "Построить график достаточно просто:"
      ]
    },
    {
      "cell_type": "code",
      "execution_count": null,
      "metadata": {
        "colab": {
          "base_uri": "https://localhost:8080/",
          "height": 282
        },
        "id": "ZfVQOEgx91T7",
        "outputId": "b82d4dd3-cedf-45b1-9ca4-cec48cbd4131"
      },
      "outputs": [
        {
          "output_type": "execute_result",
          "data": {
            "text/plain": [
              "[<matplotlib.lines.Line2D at 0x7f69e1999b10>]"
            ]
          },
          "metadata": {},
          "execution_count": 17
        },
        {
          "output_type": "display_data",
          "data": {
            "text/plain": [
              "<Figure size 432x288 with 1 Axes>"
            ],
            "image/png": "[encoded data removed]"
          },
          "metadata": {
            "needs_background": "light"
          }
        }
      ],
      "source": [
        "import numpy as np\n",
        "import matplotlib.pyplot as plt\n",
        "%matplotlib inline\n",
        "\n",
        "x = np.linspace(-1, 1, 100)  # Создаем массив из ста точек на промежутке (-1; 1)\n",
        "y = x**3\n",
        "plt.plot(x,y)"
      ]
    },
    {
      "cell_type": "markdown",
      "metadata": {
        "id": "aKk_lTxr91T8"
      },
      "source": [
        "Как вы можете заметить построеный график хорош всем, кромо того обстоятельства что он нарушает все правила оформления графиков для лабораторных работ. Постораемся оформить его. \n",
        "Следующая иллюстрация поможет нам узнать как называются элементы изображения:\n",
        "\n",
        "\n",
        "![](https://matplotlib.org/_images/anatomy.png)\n",
        "\n",
        "\n",
        "Используя поиск по сайту [matplotlib.org](https://matplotlib.org/3.1.1/index.html) можно подробно узнать как настроить тот или иной элемент изображения. А мы приведем краткое описание полезных функции:"
      ]
    },
    {
      "cell_type": "code",
      "execution_count": null,
      "metadata": {
        "colab": {
          "base_uri": "https://localhost:8080/",
          "height": 506
        },
        "id": "TbwHqrI-91T8",
        "outputId": "40871e3c-059b-422c-e59b-6ab0aa633845"
      },
      "outputs": [
        {
          "output_type": "display_data",
          "data": {
            "text/plain": [
              "<Figure size 504x504 with 1 Axes>"
            ],
            "image/png": "[encoded data removed]"
          },
          "metadata": {
            "needs_background": "light"
          }
        },
        {
          "output_type": "display_data",
          "data": {
            "text/plain": [
              "<Figure size 432x288 with 0 Axes>"
            ]
          },
          "metadata": {}
        }
      ],
      "source": [
        "import numpy as np\n",
        "import matplotlib.pyplot as plt\n",
        "import matplotlib as mpl\n",
        "mpl.rcParams['font.size'] = 16 # Управление стилем, в данном случаем - размером шрифта \n",
        " # Создаем фигуру\n",
        "plt.figure(figsize=(7,7))\n",
        "\n",
        "# Подписываем оси и график\n",
        "plt.title(r\"Это название  графика  $y = x^3$ - да, можно использовать LaTeX:\")\n",
        "plt.ylabel(\"Это ось Y\")\n",
        "plt.xlabel(r\"Это ось X, $F(x) = \\int f(x) dx + C$\")\n",
        "\n",
        "\n",
        "\n",
        "# Добавляем данные\n",
        "x = np.linspace(-1,1,100)\n",
        "y = x**3\n",
        "plt.plot(x,y, label=\"Синия линия\")\n",
        "\n",
        "# Еще данные\n",
        "x2 = x[::10]\n",
        "y2 = np.sin(x2)\n",
        "plt.plot(x2,y2, 'r^', label='Красные треугольники')\n",
        "# 'r^' - задает стиль линии - красные (red) треугольники (^), подробнее в документации\n",
        "\n",
        "# Данные с ошибками\n",
        "mu = np.sin(x2)\n",
        "sigma = np.abs(mu)**0.5\n",
        "y2 = np.random.normal(mu, sigma)\n",
        "# Можно рисовать ошибки\n",
        "plt.errorbar(x2,y2, yerr=sigma, xerr=0.1, fmt='.', label='Кресты') \n",
        "\n",
        "# Активируем сетку\n",
        "plt.grid(b=True, which='major', axis='both', alpha=1)\n",
        "plt.grid(b=True, which='minor', axis='both', alpha=0.5)\n",
        "\n",
        "# Активируем легенду графика\n",
        "plt.legend()\n",
        "# Внимание, запускаете вашу программу как сценарий, то что бы показать график\n",
        "# Используйте эту команду\n",
        "plt.show()\n",
        "# Сохраняем изображение в текущую директорию\n",
        "plt.savefig('example.png')"
      ]
    },
    {
      "cell_type": "code",
      "execution_count": null,
      "metadata": {
        "colab": {
          "base_uri": "https://localhost:8080/",
          "height": 291
        },
        "id": "6_zsA-gb91T9",
        "outputId": "03765873-d0f9-4fae-bf36-d396ffa10b05"
      },
      "outputs": [
        {
          "output_type": "execute_result",
          "data": {
            "text/plain": [
              "[<matplotlib.lines.Line2D at 0x7f69e2ac2c50>]"
            ]
          },
          "metadata": {},
          "execution_count": 19
        },
        {
          "output_type": "display_data",
          "data": {
            "text/plain": [
              "<Figure size 432x288 with 1 Axes>"
            ],
            "image/png": "[encoded data removed]"
          },
          "metadata": {
            "needs_background": "light"
          }
        }
      ],
      "source": [
        "# Логарифмический масштаб по оси x (аналогично для y)\n",
        "plt.xscale('log')\n",
        "plt.yscale('log')\n",
        "# Сетка\n",
        "plt.grid(True)\n",
        "# Добавляем данные\n",
        "x = np.linspace(0,100,100)\n",
        "plt.plot(x,x**3,\"k--\", label=\"Синия линия\") # \"k--\" --- черная прерывистая линия"
      ]
    },
    {
      "cell_type": "markdown",
      "metadata": {
        "id": "G4wMWTMc91T9"
      },
      "source": [
        "## Общие замечания\n",
        "\n",
        "1. Не советуется сильно изменять стандартный размер фигуры, который равен `[6.4, 4.8]`. Тогда не потребуется подстраивать раземер шрифта.\n",
        "2. Попробуйте воспользоваться функцией `plt.tight_layout()`. Она *уберет* лишнее пустое пространство вокруг графика.\n",
        "3. Для передачи *сырых* строк стоит пользоваться `r\"my favorite $\\LaTeX$\"` $\\rightarrow$ my favorite $\\LaTeX$\n",
        "4. Для сохранения графиков можно воспользоваться функцией `plt.savefig()`. По умолчанию возможно сохранять в `.pdf/.jpg/.png` и так далее."
      ]
    },
    {
      "cell_type": "markdown",
      "metadata": {
        "id": "urQrcKUZ91T-"
      },
      "source": [
        "## Задание matplotlib\n",
        "\n",
        "1. Нарисуйте точками график $\\sin(x) x^{-2}$ для x со значениями от 0 до 100 с шагом 10\n",
        "2. Добавьте сетку и описание осей для предыдущего графика\n",
        "2. Нарисуйте непрерывной прямой график $e^{-x \\sin(x)}$ для x со значениями от 10 до 100\n",
        "3. Добавьте сетку и описание осей для предыдущего графика\n",
        "4. Добавьте мелкую сетку для предыдущего графика (опция `plt.minorticks_on()`\n",
        "5. Нарисуйте точками график $e^{x \\sin(x)}$ для x со значениями от 10 до 100\n",
        "6. \n",
        "7. Сделайте логарифмический масштаб по оси ординат. Отразите этот факт в подписи к оси\n",
        "8. Добавьте легенду точкам и подписи к графику\n",
        "\n",
        "Замечания:\n",
        "- Если указано сделать подпись осей, то нужно добавить подписи к двум осям графика\n",
        "- Если указано ссделать подписи к графику, то нужно добавить оглавление графика, легенду для точек и кривых, подписи к осям\n",
        "- Задания делать внутри следующей ячейки ноутбука. Если работаете в Pycharm, то сохраняйте в файлы `matplotlib_i.py`, где `i` указывает пункт задания.\n",
        "- Задания, или готовый ноутбук, сохранять в директории (папке) `classwork04`. **Никак иначе диеректорию не называть!**"
      ]
    },
    {
      "cell_type": "code",
      "execution_count": 75,
      "metadata": {
        "colab": {
          "base_uri": "https://localhost:8080/",
          "height": 465
        },
        "id": "PppeLV4G91T-",
        "outputId": "5086b25e-9684-4165-ada0-15f39970c56f"
      },
      "outputs": [
        {
          "output_type": "stream",
          "name": "stderr",
          "text": [
            "/usr/local/lib/python3.7/dist-packages/ipykernel_launcher.py:8: RuntimeWarning: divide by zero encountered in power\n",
            "  \n"
          ]
        },
        {
          "output_type": "display_data",
          "data": {
            "text/plain": [
              "<Figure size 640x480 with 1 Axes>"
            ],
            "image/png": "[encoded data removed]"
          },
          "metadata": {}
        }
      ],
      "source": [
        "import numpy as np\n",
        "import matplotlib.pyplot as plt\n",
        "import matplotlib as mpl\n",
        "\n",
        "\n",
        "# Добавляем данные\n",
        "x = np.linspace(0,10,100)\n",
        "y = x**(-2)\n",
        "plt.plot(x,y,'.')\n",
        "plt.show()"
      ]
    },
    {
      "cell_type": "code",
      "source": [
        "import numpy as np\n",
        "import matplotlib.pyplot as plt\n",
        "import matplotlib as mpl\n",
        "\n",
        "plt.grid(True)\n",
        "\n",
        "plt.ylabel(\"$ Y=X^{-2}$ \")\n",
        "plt.xlabel('X')\n",
        "\n",
        "\n",
        "x = np.linspace(0,10,100)\n",
        "y = x**(-2)\n",
        "plt.plot(x,y,'.')\n",
        "plt.show()"
      ],
      "metadata": {
        "colab": {
          "base_uri": "https://localhost:8080/",
          "height": 484
        },
        "id": "iG9ikOEUHkzK",
        "outputId": "607586e5-7da0-4243-ba8b-bd085fea143d"
      },
      "execution_count": 74,
      "outputs": [
        {
          "output_type": "stream",
          "name": "stderr",
          "text": [
            "/usr/local/lib/python3.7/dist-packages/ipykernel_launcher.py:12: RuntimeWarning: divide by zero encountered in power\n",
            "  if sys.path[0] == '':\n"
          ]
        },
        {
          "output_type": "display_data",
          "data": {
            "text/plain": [
              "<Figure size 640x480 with 1 Axes>"
            ],
            "image/png": "[encoded data removed]"
          },
          "metadata": {}
        }
      ]
    },
    {
      "cell_type": "code",
      "source": [
        "import numpy as np\n",
        "import matplotlib.pyplot as plt\n",
        "import matplotlib as mpl\n",
        "\n",
        "# Добавляем данные\n",
        "x = np.linspace(10,100,10000000)\n",
        "\n",
        "y = np.exp(-x*np.sin(x))\n",
        "plt.plot(x,y)\n",
        "\n",
        "plt.show()"
      ],
      "metadata": {
        "colab": {
          "base_uri": "https://localhost:8080/",
          "height": 445
        },
        "id": "Akw0vCqZIbo4",
        "outputId": "28051d22-7b09-4605-9671-b1334d1098f9"
      },
      "execution_count": 73,
      "outputs": [
        {
          "output_type": "display_data",
          "data": {
            "text/plain": [
              "<Figure size 640x480 with 1 Axes>"
            ],
            "image/png": "[encoded data removed]"
          },
          "metadata": {}
        }
      ]
    },
    {
      "cell_type": "code",
      "source": [
        "import numpy as np\n",
        "import matplotlib.pyplot as plt\n",
        "import matplotlib as mpl\n",
        "\n",
        "plt.grid(True)\n",
        "plt.minorticks_on()\n",
        "plt.ylabel(\"$ Y=e^{-x\\cdot \\sin x}$ \")\n",
        "plt.xlabel('X')\n",
        "\n",
        "\n",
        "x = np.linspace(10,100,10000000)\n",
        "\n",
        "y = np.exp(-x*np.sin(x))\n",
        "plt.plot(x,y)\n",
        "\n",
        "plt.show()"
      ],
      "metadata": {
        "id": "Ug8eQW08IcDh",
        "colab": {
          "base_uri": "https://localhost:8080/",
          "height": 465
        },
        "outputId": "44c4644d-439c-4793-d8e1-4b8827ea50e6"
      },
      "execution_count": 72,
      "outputs": [
        {
          "output_type": "display_data",
          "data": {
            "text/plain": [
              "<Figure size 640x480 with 1 Axes>"
            ],
            "image/png": "[encoded data removed]"
          },
          "metadata": {}
        }
      ]
    },
    {
      "cell_type": "code",
      "source": [
        "import numpy as np\n",
        "import matplotlib.pyplot as plt\n",
        "import matplotlib as mpl\n",
        "\n",
        "plt.title(r\"График зависисмости $y=e^{-x\\cdot\\sinx}$ в логарифмическом маштабе\")\n",
        "plt.ylabel(r\"$ln(y)=ln(e^{-x\\cdot\\sinx})=-x\\cdot\\sinx$ \")\n",
        "plt.xlabel(r\"x\")\n",
        "\n",
        "\n",
        "plt.xscale('log')\n",
        "plt.yscale('log')\n",
        "# Добавляем данные\n",
        "x = np.linspace(10,100,1000)\n",
        "\n",
        "y = np.exp(x*np.sin(x))\n",
        "plt.plot(x,y,'.',label='$-x\\cdot\\sinx$')\n",
        "\n",
        "plt.show()"
      ],
      "metadata": {
        "id": "hkwt4GN1IcJ-",
        "colab": {
          "base_uri": "https://localhost:8080/",
          "height": 481
        },
        "outputId": "fcbdd486-4604-433f-a414-e48153d32016"
      },
      "execution_count": 71,
      "outputs": [
        {
          "output_type": "display_data",
          "data": {
            "text/plain": [
              "<Figure size 640x480 with 1 Axes>"
            ],
            "image/png": "[encoded data removed]"
          },
          "metadata": {}
        }
      ]
    },
    {
      "cell_type": "code",
      "source": [],
      "metadata": {
        "id": "EqDBHX3kIcMp"
      },
      "execution_count": null,
      "outputs": []
    },
    {
      "cell_type": "code",
      "source": [],
      "metadata": {
        "id": "0AcCMmnKIcPP"
      },
      "execution_count": null,
      "outputs": []
    },
    {
      "cell_type": "markdown",
      "metadata": {
        "id": "MlZ5sdef91T-"
      },
      "source": [
        "## Data Analysis\n",
        "\n",
        "Функция `fake_data_generator` выдает данные какого-то эксперимента. Но это не беда, ведь мы всегда можем обработать данные!\n",
        "\n",
        "Узнайте свой порядковый номер в группе и с помощью функции `get_numbers` получите свои входные значения для функции `fake_data_generator`.\n",
        "\n",
        "Полученные  экспериентальные данные используйте для нанесения на график. Затем попрбуйте *прикинуть* параметры прямой, которая могла бы проходить через экспериентальные точки.\n",
        "\n",
        "### План действий\n",
        "\n",
        "1. Сгенерируйте свои числа для задачи\n",
        "2. Нанесите точки на график. В качестве ошибок по `x` используйте половину расстояния между соседними точками. Для ошибок по `y` используйте корень квадратный от модуля значения. Добавьте легенду \"DATA\"\n",
        "3. Нанесите сетку на график\n",
        "4. Выделите штрихованную прямую синего цвета, которая выделяет средний уровень точек по оси абсцисс. Добавьте легенду со значением среднего \"mean x = \"\n",
        "5. Выделите штрих-пунктирную прямую красного цвета, которая выделяет средний уровень точек по оси ординат. Добавьте легенду со значением среднего \"mean y = \"\n",
        "6. Нарисуйте черным цветом прямую, которая примерно описывает данные на графике. Добавьте легенду \"fit\"\n",
        "7. Точки пересечения подгоночной кривой и средних значений выделить синим цветом\n",
        "8. Добавить описание для оси абсцисс $\\xi, cm\\rightarrow$ `$\\xi, cm$`\n",
        "9. Добавить описание для оси ординат $\\rho, mm^{-3}\\rightarrow$`$\\rho, mm^{-3}$`\n",
        "10. Легенду разместите в правом нижнем углу или же в верхнем правом"
      ]
    },
    {
      "cell_type": "code",
      "execution_count": 10,
      "metadata": {
        "id": "4J7hFfB291T_"
      },
      "outputs": [],
      "source": [
        "import matplotlib\n",
        "from matplotlib import pyplot as plt\n",
        "\n",
        "matplotlib.rcParams.update(matplotlib.rcParamsDefault)\n",
        "\n",
        "\n",
        "def get_numbers(student):\n",
        "    return student, (student + 4) % 5 + 3, student % 2 * 10 + 12, (student % 5 * 3 + 7) * 3 \n",
        "\n",
        "def fake_data_generator(seed, vmin=0, vmax=10, size=100):\n",
        "    import numpy as np\n",
        "    np.random.seed(seed)\n",
        "    data = np.random.randint(vmin, vmax, size=20)\n",
        "    mean = data.mean()\n",
        "    std = data.std()\n",
        "    noise = np.random.normal(loc=mean, scale=std**.5, size=size)\n",
        "    fake_x = np.array([-5 + i * 20 / size for i in range(size)])\n",
        "    \n",
        "    linear = lambda x, k=(.5 - np.random.rand()) * 15, b=np.random.rand()*10: k * x + b\n",
        "    linear_data = linear(fake_x)\n",
        "    fake_y = linear_data + noise\n",
        "    return fake_x, fake_y"
      ]
    },
    {
      "cell_type": "code",
      "source": [
        "import matplotlib as mpl\n",
        "from matplotlib import pyplot as plt\n",
        "import numpy as np\n",
        "x, y = fake_data_generator(get_numbers(12))\n",
        "\n",
        "plt.grid(True,  axis='both', alpha=1)\n",
        "plt.grid(True, which='minor', axis='both', alpha=0.5)\n",
        "plt.minorticks_on()\n",
        "\n",
        "plt.title('Data Analisis')\n",
        "plt.xlabel(r\"$\\xi, cm$\")\n",
        "plt.ylabel(r\"$\\rho, mm^{-3}$\")\n",
        "plt.ylim(-5,50)\n",
        "plt.xlim(-6,16)\n",
        "\n",
        "y_error = abs(y)**0.5\n",
        "x_error = 0.1\n",
        "plt.errorbar(x, y, xerr=x_error, yerr=y_error, fmt='g.', label='DATA')\n",
        "\n",
        "mean_x=sum(x)/len(x)\n",
        "mean_y = sum(y)/len(y)\n",
        "plt.plot(np.array([mean_x]*2), np.array([-10,50]),'b--', label = f'mean x = {mean_x}')\n",
        "plt.plot(np.array([-6,16]), np.array([mean_y]*2),'r-.', label = f'mean y = {round(mean_y,1)}')\n",
        "\n",
        "z=np.linspace(-7,20,20)\n",
        "plt.plot(z,1.71*z+11.438,'black',label = 'Fit')\n",
        "\n",
        "plt.plot(4.9,19.8175,'b^')\n",
        "\n",
        "plt.legend(loc='lower right')\n",
        "\n",
        "plt.show()"
      ],
      "metadata": {
        "colab": {
          "base_uri": "https://localhost:8080/",
          "height": 476
        },
        "id": "xTaln3Jja85S",
        "outputId": "b6889c67-8aa6-4aa8-b315-34353d843093"
      },
      "execution_count": 70,
      "outputs": [
        {
          "output_type": "display_data",
          "data": {
            "text/plain": [
              "<Figure size 640x480 with 1 Axes>"
            ],
            "image/png": "[encoded data removed]"
          },
          "metadata": {}
        }
      ]
    },
    {
      "cell_type": "code",
      "source": [
        "print(fake_data_generator(get_numbers(12)))"
      ],
      "metadata": {
        "colab": {
          "base_uri": "https://localhost:8080/"
        },
        "id": "OFinUgYLe8YX",
        "outputId": "65f00234-7063-422c-d35e-8a5b0e96b042"
      },
      "execution_count": 48,
      "outputs": [
        {
          "output_type": "stream",
          "name": "stdout",
          "text": [
            "(array([-5. , -4.8, -4.6, -4.4, -4.2, -4. , -3.8, -3.6, -3.4, -3.2, -3. ,\n",
            "       -2.8, -2.6, -2.4, -2.2, -2. , -1.8, -1.6, -1.4, -1.2, -1. , -0.8,\n",
            "       -0.6, -0.4, -0.2,  0. ,  0.2,  0.4,  0.6,  0.8,  1. ,  1.2,  1.4,\n",
            "        1.6,  1.8,  2. ,  2.2,  2.4,  2.6,  2.8,  3. ,  3.2,  3.4,  3.6,\n",
            "        3.8,  4. ,  4.2,  4.4,  4.6,  4.8,  5. ,  5.2,  5.4,  5.6,  5.8,\n",
            "        6. ,  6.2,  6.4,  6.6,  6.8,  7. ,  7.2,  7.4,  7.6,  7.8,  8. ,\n",
            "        8.2,  8.4,  8.6,  8.8,  9. ,  9.2,  9.4,  9.6,  9.8, 10. , 10.2,\n",
            "       10.4, 10.6, 10.8, 11. , 11.2, 11.4, 11.6, 11.8, 12. , 12.2, 12.4,\n",
            "       12.6, 12.8, 13. , 13.2, 13.4, 13.6, 13.8, 14. , 14.2, 14.4, 14.6,\n",
            "       14.8]), array([ 1.56308806,  4.45853526,  4.20423725,  3.97507788,  2.81549238,\n",
            "        4.55971859,  5.05297471,  6.18103452,  5.47558695,  6.86341109,\n",
            "        5.19449391,  8.95286288,  5.67448144,  8.89486768,  6.35640539,\n",
            "        6.63312225,  9.75551872,  9.24167784,  9.00686713, 10.04584299,\n",
            "       11.33943448, 11.99285163,  7.46446052, 10.99890255, 11.90032287,\n",
            "       10.62394385, 10.44540885, 12.19377057, 16.16840225, 13.41398881,\n",
            "       12.87435384, 11.82552927, 13.29902486, 12.36147924, 16.13039621,\n",
            "       13.53160657, 14.91555289, 16.83411674, 15.97911781, 18.61011076,\n",
            "       15.7247758 , 15.83074515, 17.0044603 , 20.66078288, 16.98042213,\n",
            "       18.15610221, 18.51645741, 17.15152992, 20.55535403, 19.58603558,\n",
            "       18.41901674, 17.73926481, 21.03136139, 20.70608865, 23.87768509,\n",
            "       21.20916258, 20.76447529, 24.7683182 , 25.89806742, 24.88978257,\n",
            "       23.66252923, 26.56465378, 22.91849626, 24.85242527, 25.45364883,\n",
            "       22.99784548, 26.72375114, 22.8263154 , 26.41347521, 25.72318399,\n",
            "       25.31381698, 23.95103556, 28.17906923, 31.59642962, 25.05152191,\n",
            "       26.40936167, 28.6314566 , 30.22749445, 29.54286373, 29.61848432,\n",
            "       28.42314689, 29.37589313, 29.09801002, 29.24331493, 32.98826096,\n",
            "       30.78102323, 32.83902983, 32.97825686, 34.40351601, 34.07762709,\n",
            "       36.52604747, 35.86461385, 34.78596135, 35.62226162, 33.88786678,\n",
            "       34.90367046, 37.56046208, 30.29595561, 36.8807502 , 37.36853892]))\n"
          ]
        }
      ]
    }
  ],
  "metadata": {
    "kernelspec": {
      "display_name": "Python 3 (ipykernel)",
      "language": "python",
      "name": "python3"
    },
    "language_info": {
      "codemirror_mode": {
        "name": "ipython",
        "version": 3
      },
      "file_extension": ".py",
      "mimetype": "text/x-python",
      "name": "python",
      "nbconvert_exporter": "python",
      "pygments_lexer": "ipython3",
      "version": "3.8.10"
    },
    "colab": {
      "provenance": [],
      "collapsed_sections": [
        "y-2wc77a91T3",
        "7qSzlnmP91T7",
        "G4wMWTMc91T9"
      ],
      "toc_visible": true
    }
  },
  "nbformat": 4,
  "nbformat_minor": 0
}